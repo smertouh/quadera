{
 "cells": [
  {
   "cell_type": "markdown",
   "id": "d4c7cf41",
   "metadata": {},
   "source": [
    "# Commands to build docker images.\n",
    "\n",
    "## stable (0.2.4):\n",
    "\n",
    "```bash\n",
    "cd spectrochempy\n",
    "\n",
    "docker build --build-arg BRANCH=0.2.4 --build-arg PY_VERSION=3.9 -t spectrocat/spectrochempy:stable .\n",
    "\n",
    "docker run --entrypoint start.sh -p 8888:8888 -v /path/on/host/spectrochempy:/home/jovyan/spectrochempy --name scpy_stable -it spectrocat/spectrochempy:stable jupyter lab --port=8888\n",
    "```\n",
    "\n",
    "## latest (master)\n",
    "\n",
    "```bash\n",
    "cd spectrochempy\n",
    "\n",
    "docker build --build-arg BRANCH=0.2.4 --build-arg PY_VERSION=3.9 -t spectrocat/spectrochempy:stable .\n",
    "\n",
    "docker run --entrypoint start.sh -p 8889:8889 -v /path/on/host/spectrochempy:/home/jovyan/spectrochempy --name scpy_stable -it spectrocat/spectrochempy:stable jupyter lab --port=8889\n",
    "\n",
    "```"
   ]
  }
 ],
 "metadata": {
  "jupytext": {
   "cell_metadata_filter": "-all",
   "main_language": "python",
   "notebook_metadata_filter": "-all",
   "text_representation": {
    "extension": ".Rmd",
    "format_name": "rmarkdown"
   }
  },
  "language_info": {
   "codemirror_mode": {
    "name": "ipython",
    "version": 3
   },
   "file_extension": ".py",
   "mimetype": "text/x-python",
   "name": "python",
   "nbconvert_exporter": "python",
   "pygments_lexer": "ipython3",
   "version": "3.9.12"
  }
 },
 "nbformat": 4,
 "nbformat_minor": 5
}
