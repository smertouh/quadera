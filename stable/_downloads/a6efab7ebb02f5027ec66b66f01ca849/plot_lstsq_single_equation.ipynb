{
  "cells": [
    {
      "cell_type": "code",
      "execution_count": null,
      "metadata": {
        "collapsed": false
      },
      "outputs": [],
      "source": [
        "%matplotlib inline"
      ]
    },
    {
      "cell_type": "markdown",
      "metadata": {},
      "source": [
        "\n# Solve a linear equation using LSTSQ\nIn this example, we find the least  square solution of a simple linear\nequation.\n"
      ]
    },
    {
      "cell_type": "code",
      "execution_count": null,
      "metadata": {
        "collapsed": false
      },
      "outputs": [],
      "source": [
        "# sphinx_gallery_thumbnail_number = 2\n\nimport spectrochempy as scp"
      ]
    },
    {
      "cell_type": "markdown",
      "metadata": {},
      "source": [
        "Let's take a similar example to the one given in the `numpy.linalg`\ndocumentation\n\nWe have some noisy data that represent the distance `d` traveled by some\nobjects versus time `t`:\n\n"
      ]
    },
    {
      "cell_type": "code",
      "execution_count": null,
      "metadata": {
        "collapsed": false
      },
      "outputs": [],
      "source": [
        "t = scp.NDDataset(data=[0, 1, 2, 3], title=\"time\", units=\"hour\")\n\nd = scp.NDDataset(\n    data=[-1, 0.2, 0.9, 2.1], coordset=[t], title=\"distance\", units=\"kilometer\"\n)"
      ]
    },
    {
      "cell_type": "markdown",
      "metadata": {},
      "source": [
        "Here is a plot of these data-points:\n\n"
      ]
    },
    {
      "cell_type": "code",
      "execution_count": null,
      "metadata": {
        "collapsed": false
      },
      "outputs": [],
      "source": [
        "d.plot_scatter(markersize=7, mfc=\"red\")"
      ]
    },
    {
      "cell_type": "markdown",
      "metadata": {},
      "source": [
        "We want to fit a line through these data-points of equation\n\n\\begin{align}d = v.t + d_0\\end{align}\n\nBy examining the coefficients, we see that the line should have a\ngradient of roughly 1 km/h and cut the y-axis at, more or less, -1 km.\n\nUsing LSTSQ, the solution is found very easily:\n\n"
      ]
    },
    {
      "cell_type": "code",
      "execution_count": null,
      "metadata": {
        "collapsed": false
      },
      "outputs": [],
      "source": [
        "lst = scp.LSTSQ(t, d)\n\nv, d0 = lst.transform()\nprint(\"speed : {:.3fK},  d0 : {:.3fK}\".format(v, d0))"
      ]
    },
    {
      "cell_type": "markdown",
      "metadata": {},
      "source": [
        "Final plot\n\n"
      ]
    },
    {
      "cell_type": "code",
      "execution_count": null,
      "metadata": {
        "collapsed": false
      },
      "outputs": [],
      "source": [
        "d.plot_scatter(\n    markersize=10,\n    mfc=\"red\",\n    mec=\"black\",\n    label=\"Original data\",\n    suptitle=\"Least-square fitting \" \"example\",\n)\ndfit = lst.inverse_transform()\n\ndfit.plot_pen(clear=False, color=\"g\", label=\"Fitted line\", legend=True)"
      ]
    },
    {
      "cell_type": "markdown",
      "metadata": {},
      "source": [
        "Note: The same result can be obtained directly using `d` as a single\nparameter on LSTSQ (as `t` is the `x` coordinate axis!)\n\n"
      ]
    },
    {
      "cell_type": "code",
      "execution_count": null,
      "metadata": {
        "collapsed": false
      },
      "outputs": [],
      "source": [
        "lst = scp.LSTSQ(d)\n\nv, d0 = lst.transform()\nprint(\"speed : {:.3fK},  d0 : {:.3fK}\".format(v, d0))\n\n# scp.show()  # uncomment to show plot if needed (not necessary in jupyter notebook)"
      ]
    }
  ],
  "metadata": {
    "kernelspec": {
      "display_name": "Python 3",
      "language": "python",
      "name": "python3"
    },
    "language_info": {
      "codemirror_mode": {
        "name": "ipython",
        "version": 3
      },
      "file_extension": ".py",
      "mimetype": "text/x-python",
      "name": "python",
      "nbconvert_exporter": "python",
      "pygments_lexer": "ipython3",
      "version": "3.9.12"
    }
  },
  "nbformat": 4,
  "nbformat_minor": 0
}