{
  "cells": [
    {
      "cell_type": "code",
      "execution_count": null,
      "metadata": {
        "collapsed": false
      },
      "outputs": [],
      "source": [
        "%matplotlib inline"
      ]
    },
    {
      "cell_type": "markdown",
      "metadata": {},
      "source": [
        "\n# PCA analysis example\nIn this example, we perform the PCA dimensionality reduction of the classical ``iris`` dataset (Ronald A. Fisher.\n\"The Use of Multiple Measurements in Taxonomic Problems. Annals of Eugenics, 7, pp.179-188, 1936).\n"
      ]
    },
    {
      "cell_type": "code",
      "execution_count": null,
      "metadata": {
        "collapsed": false
      },
      "outputs": [],
      "source": [
        "import spectrochempy as scp\nimport sys"
      ]
    },
    {
      "cell_type": "markdown",
      "metadata": {},
      "source": [
        "Upload a dataset form a distant server\n\n"
      ]
    },
    {
      "cell_type": "code",
      "execution_count": null,
      "metadata": {
        "collapsed": false
      },
      "outputs": [],
      "source": [
        "try:\n    dataset = scp.download_iris()\nexcept (IOError, OSError):\n    print(\"Could not load The `IRIS` dataset. Finishing here.\")\n    sys.exit(0)"
      ]
    },
    {
      "cell_type": "markdown",
      "metadata": {},
      "source": [
        "Create a PCA object\n\n"
      ]
    },
    {
      "cell_type": "code",
      "execution_count": null,
      "metadata": {
        "collapsed": false
      },
      "outputs": [],
      "source": [
        "pca = scp.PCA(dataset, centered=True)"
      ]
    },
    {
      "cell_type": "markdown",
      "metadata": {},
      "source": [
        "Reduce the data to a lower dimensionality. Here, the number of\ncomponents is automatically determined using `n_pc=\"auto\"`. As\nindicated by the dimension of LT, 4 PC are found.\n\n"
      ]
    },
    {
      "cell_type": "code",
      "execution_count": null,
      "metadata": {
        "collapsed": false
      },
      "outputs": [],
      "source": [
        "S, LT = pca.reduce(n_pc=\"auto\")\n\nprint(LT)"
      ]
    },
    {
      "cell_type": "markdown",
      "metadata": {},
      "source": [
        "The figures of merit (explained and cumulative variance) confirm that\nthese 4 PC's explain 100% of the variance:\n\n\n"
      ]
    },
    {
      "cell_type": "code",
      "execution_count": null,
      "metadata": {
        "collapsed": false
      },
      "outputs": [],
      "source": [
        "pca.printev()"
      ]
    },
    {
      "cell_type": "markdown",
      "metadata": {},
      "source": [
        "These figures of merit can also be displayed graphically\n\nThe ScreePlot\n\n"
      ]
    },
    {
      "cell_type": "code",
      "execution_count": null,
      "metadata": {
        "collapsed": false
      },
      "outputs": [],
      "source": [
        "_ = pca.screeplot()"
      ]
    },
    {
      "cell_type": "markdown",
      "metadata": {},
      "source": [
        "The score plots can be used for classification purposes. The first one - in 2D for the 2 first PC's - shows that the first PC\nallows distinguishing Iris-setosa (score of PC#1 < -1) from other species (score of PC#1 > -1), while more PC's are required\nto distinguish versicolor from viginica.\n\n"
      ]
    },
    {
      "cell_type": "code",
      "execution_count": null,
      "metadata": {
        "collapsed": false
      },
      "outputs": [],
      "source": [
        "_ = pca.scoreplot(1, 2, color_mapping=\"labels\")"
      ]
    },
    {
      "cell_type": "markdown",
      "metadata": {},
      "source": [
        "The second one - in 3D for the 3 first PC's - indicates that a thid PC won't allow better distinguishing versicolor\nfrom viginica.\n\n"
      ]
    },
    {
      "cell_type": "code",
      "execution_count": null,
      "metadata": {
        "collapsed": false
      },
      "outputs": [],
      "source": [
        "ax = pca.scoreplot(1, 2, 3, color_mapping=\"labels\")\nax.view_init(10, 75)\n\n# scp.show()  # uncomment to show plot if needed (not necessary in jupyter notebook)"
      ]
    }
  ],
  "metadata": {
    "kernelspec": {
      "display_name": "Python 3",
      "language": "python",
      "name": "python3"
    },
    "language_info": {
      "codemirror_mode": {
        "name": "ipython",
        "version": 3
      },
      "file_extension": ".py",
      "mimetype": "text/x-python",
      "name": "python",
      "nbconvert_exporter": "python",
      "pygments_lexer": "ipython3",
      "version": "3.9.12"
    }
  },
  "nbformat": 4,
  "nbformat_minor": 0
}