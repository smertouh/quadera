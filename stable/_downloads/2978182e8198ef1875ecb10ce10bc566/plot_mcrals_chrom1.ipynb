{
  "cells": [
    {
      "cell_type": "code",
      "execution_count": null,
      "metadata": {
        "collapsed": false
      },
      "outputs": [],
      "source": [
        "%matplotlib inline"
      ]
    },
    {
      "cell_type": "markdown",
      "metadata": {},
      "source": [
        "\n# MCR-ALS optimization example (original example from Jaumot)\n\nIn this example, we perform the MCR ALS optimization of a dataset\ncorresponding to a HPLC-DAD run, from\nJaumot et al. Chemolab, 76 (2005) 101-110,\n`DOI: 10.1016/j.chemolab.2004.12.007  <https://doi.org/10.1016/j.chemolab.2004.12.007>`_\nand Jaumot et al. Chemolab, 140 (2015) pp. 1-12,\n`DOI: 10.1016/j.chemolab.2014.10.003 <https://doi.org/10.1016/j.chemolab.2014.10.003>`_ .\n\nThis dataset (and others) can be loaded from the\n`Multivariate Curve Resolution Homepage <https://mcrals.wordpress.com/download/example-data-sets>`_ .\n\nFor the user convenience, this dataset is present in the `datadir` of SpectroChemPy as 'als2004dataset.MAT' .\n"
      ]
    },
    {
      "cell_type": "code",
      "execution_count": null,
      "metadata": {
        "collapsed": false
      },
      "outputs": [],
      "source": [
        "import spectrochempy as scp"
      ]
    },
    {
      "cell_type": "markdown",
      "metadata": {},
      "source": [
        "Load the dataset\n\n"
      ]
    },
    {
      "cell_type": "code",
      "execution_count": null,
      "metadata": {
        "collapsed": false
      },
      "outputs": [],
      "source": [
        "datasets = scp.read_matlab(\"matlabdata/als2004dataset.MAT\")"
      ]
    },
    {
      "cell_type": "markdown",
      "metadata": {},
      "source": [
        "As the .mat file contains 6 matrices, 6 NDDataset objects are returned:\n\n"
      ]
    },
    {
      "cell_type": "code",
      "execution_count": null,
      "metadata": {
        "collapsed": false
      },
      "outputs": [],
      "source": [
        "print(\"\\n NDDataset names: \" + str([ds.name for ds in datasets]))"
      ]
    },
    {
      "cell_type": "markdown",
      "metadata": {},
      "source": [
        "We are interested in the last dataset ('m1') that contains a single HPLS-DAD run (51x96)  dataset.\nAs usual, the 51 rows correspond to the 'time axis' of the HPLC run, and the 96 columns to the 'wavelength' axis\nof the UV spectra. The original dataset does not contain information as to the actual time and wavelength coordinates.\n\nMCR-ALS needs also an initial guess for either concentration profiles or pure spectra concentration profiles.\nThe 4th dataset 'spure' is a (4x96) guess of spectral profiles.\n\nLoad the experimental data as X and the guess:\n\n"
      ]
    },
    {
      "cell_type": "code",
      "execution_count": null,
      "metadata": {
        "collapsed": false
      },
      "outputs": [],
      "source": [
        "X = datasets[-1]\nguess = datasets[3]"
      ]
    },
    {
      "cell_type": "markdown",
      "metadata": {},
      "source": [
        "Create a MCR-ALS object with the default settings\nThe verbose option can be set True to get a summary of optimization steps\n\n"
      ]
    },
    {
      "cell_type": "code",
      "execution_count": null,
      "metadata": {
        "collapsed": false
      },
      "outputs": [],
      "source": [
        "mcr = scp.MCRALS(X, guess)"
      ]
    },
    {
      "cell_type": "markdown",
      "metadata": {},
      "source": [
        "The optimization has converged. We can get the concentration (C) and pure spectra profiles (St)\nand plot them\n\n"
      ]
    },
    {
      "cell_type": "code",
      "execution_count": null,
      "metadata": {
        "collapsed": false
      },
      "outputs": [],
      "source": [
        "_ = mcr.C.T.plot()\n_ = mcr.St.plot()"
      ]
    },
    {
      "cell_type": "markdown",
      "metadata": {},
      "source": [
        "Finally, plots the reconstructed dataset  (X_hat = C St) vs original dataset (X)\nand residuals. The fit is good and comparable with the original paper.\n\n"
      ]
    },
    {
      "cell_type": "code",
      "execution_count": null,
      "metadata": {
        "collapsed": false
      },
      "outputs": [],
      "source": [
        "X_hat = mcr.plotmerit()\n\n# scp.show()  # uncomment to show plot if needed (not necessary in jupyter notebook)"
      ]
    }
  ],
  "metadata": {
    "kernelspec": {
      "display_name": "Python 3",
      "language": "python",
      "name": "python3"
    },
    "language_info": {
      "codemirror_mode": {
        "name": "ipython",
        "version": 3
      },
      "file_extension": ".py",
      "mimetype": "text/x-python",
      "name": "python",
      "nbconvert_exporter": "python",
      "pygments_lexer": "ipython3",
      "version": "3.9.12"
    }
  },
  "nbformat": 4,
  "nbformat_minor": 0
}