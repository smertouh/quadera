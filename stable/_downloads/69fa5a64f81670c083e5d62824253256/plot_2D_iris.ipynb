{
  "cells": [
    {
      "cell_type": "code",
      "execution_count": null,
      "metadata": {
        "collapsed": false
      },
      "outputs": [],
      "source": [
        "%matplotlib inline"
      ]
    },
    {
      "cell_type": "markdown",
      "metadata": {},
      "source": [
        "\n# 2D-IRIS analysis example\n\nIn this example, we perform the 2D IRIS analysis of CO adsorption on a sulfide catalyst.\n"
      ]
    },
    {
      "cell_type": "code",
      "execution_count": null,
      "metadata": {
        "collapsed": false
      },
      "outputs": [],
      "source": [
        "import spectrochempy as scp"
      ]
    },
    {
      "cell_type": "markdown",
      "metadata": {},
      "source": [
        "## Uploading dataset\n\n"
      ]
    },
    {
      "cell_type": "code",
      "execution_count": null,
      "metadata": {
        "collapsed": false
      },
      "outputs": [],
      "source": [
        "X = scp.read(\"irdata/CO@Mo_Al2O3.SPG\")"
      ]
    },
    {
      "cell_type": "markdown",
      "metadata": {},
      "source": [
        "``X`` has two coordinates:\n* `wavenumbers` named \"x\"\n* and `timestamps` (*i.e.,* the time of recording) named \"y\".\n\n"
      ]
    },
    {
      "cell_type": "code",
      "execution_count": null,
      "metadata": {
        "collapsed": false
      },
      "outputs": [],
      "source": [
        "print(X.coordset)"
      ]
    },
    {
      "cell_type": "markdown",
      "metadata": {},
      "source": [
        "## Setting new coordinates\n\nThe ``y`` coordinates of the dataset is the acquisition timestamp. However, each spectrum has been recorded\nwith a given pressure of CO in the infrared cell.\n\nHence, it would be interesting to add pressure coordinates to the ``y`` dimension:\n\n"
      ]
    },
    {
      "cell_type": "code",
      "execution_count": null,
      "metadata": {
        "collapsed": false
      },
      "outputs": [],
      "source": [
        "pressures = [\n    0.003,\n    0.004,\n    0.009,\n    0.014,\n    0.021,\n    0.026,\n    0.036,\n    0.051,\n    0.093,\n    0.150,\n    0.203,\n    0.300,\n    0.404,\n    0.503,\n    0.602,\n    0.702,\n    0.801,\n    0.905,\n    1.004,\n]\n\nc_pressures = scp.Coord(pressures, title=\"pressure\", units=\"torr\")"
      ]
    },
    {
      "cell_type": "markdown",
      "metadata": {},
      "source": [
        "Now we can set multiple coordinates:\n\n"
      ]
    },
    {
      "cell_type": "code",
      "execution_count": null,
      "metadata": {
        "collapsed": false
      },
      "outputs": [],
      "source": [
        "c_times = X.y.copy()  # the original coordinate\nX.y = [c_times, c_pressures]\nprint(X.y)"
      ]
    },
    {
      "cell_type": "markdown",
      "metadata": {},
      "source": [
        "By default, the current coordinate is the first one (here `c_times`). For example, it will be used by default for\nplotting:\n\n"
      ]
    },
    {
      "cell_type": "code",
      "execution_count": null,
      "metadata": {
        "collapsed": false
      },
      "outputs": [],
      "source": [
        "prefs = X.preferences\nprefs.figure.figsize = (7, 3)\n_ = X.plot(colorbar=True)\n_ = X.plot_map(colorbar=True)"
      ]
    },
    {
      "cell_type": "markdown",
      "metadata": {},
      "source": [
        "To seamlessly work with the second coordinates (pressures), we can change the default coordinate:\n\n"
      ]
    },
    {
      "cell_type": "code",
      "execution_count": null,
      "metadata": {
        "collapsed": false
      },
      "outputs": [],
      "source": [
        "X.y.select(2)  # to select coordinate ``_2``\nX.y.default"
      ]
    },
    {
      "cell_type": "markdown",
      "metadata": {},
      "source": [
        "Let's now plot the spectral range of interest. The default coordinate is now used:\n\n"
      ]
    },
    {
      "cell_type": "code",
      "execution_count": null,
      "metadata": {
        "collapsed": false
      },
      "outputs": [],
      "source": [
        "X_ = X[:, 2250.0:1950.0]\nprint(X_.y.default)\n_ = X_.plot()\n_ = X_.plot_map()"
      ]
    },
    {
      "cell_type": "markdown",
      "metadata": {},
      "source": [
        "## IRIS analysis without regularization\n\n"
      ]
    },
    {
      "cell_type": "markdown",
      "metadata": {},
      "source": [
        "Perform IRIS without regularization (the loglevel can be set to `INFO` to have information on the running process)\n\n"
      ]
    },
    {
      "cell_type": "code",
      "execution_count": null,
      "metadata": {
        "collapsed": false
      },
      "outputs": [],
      "source": [
        "scp.set_loglevel(scp.INFO)\niris = scp.IRIS(X_, \"langmuir\", q=[-8, -1, 50])"
      ]
    },
    {
      "cell_type": "markdown",
      "metadata": {},
      "source": [
        "Plots the results\n\n"
      ]
    },
    {
      "cell_type": "code",
      "execution_count": null,
      "metadata": {
        "collapsed": false
      },
      "outputs": [],
      "source": [
        "iris.plotdistribution()\n_ = iris.plotmerit()"
      ]
    },
    {
      "cell_type": "markdown",
      "metadata": {},
      "source": [
        "## With regularization and a manual search\n\n"
      ]
    },
    {
      "cell_type": "markdown",
      "metadata": {},
      "source": [
        "Perform  IRIS with regularization, manual search\n\n"
      ]
    },
    {
      "cell_type": "code",
      "execution_count": null,
      "metadata": {
        "collapsed": false
      },
      "outputs": [],
      "source": [
        "iris = scp.IRIS(X_, \"langmuir\", q=[-8, -1, 50], reg_par=[-10, 1, 12])\niris.plotlcurve(title=\"L curve, manual search\")\niris.plotdistribution(-7)\n_ = iris.plotmerit(-7)"
      ]
    },
    {
      "cell_type": "markdown",
      "metadata": {},
      "source": [
        "## Automatic search\n\n"
      ]
    },
    {
      "cell_type": "markdown",
      "metadata": {},
      "source": [
        "Now try an automatic search of the regularization parameter:\n\n"
      ]
    },
    {
      "cell_type": "code",
      "execution_count": null,
      "metadata": {
        "collapsed": false
      },
      "outputs": [],
      "source": [
        "iris = scp.IRIS(X_, \"langmuir\", q=[-8, -1, 50], reg_par=[-10, 1])\niris.plotlcurve(title=\"L curve, automated search\")"
      ]
    },
    {
      "cell_type": "markdown",
      "metadata": {},
      "source": [
        "The data corresponding to the largest curvature of the L-curve\nare at the second last position of output data:\n\n"
      ]
    },
    {
      "cell_type": "code",
      "execution_count": null,
      "metadata": {
        "collapsed": false
      },
      "outputs": [],
      "source": [
        "iris.plotdistribution(-2)\n_ = iris.plotmerit(-2)\n\n\"\"\n# scp.show()  # uncomment to show plot if needed (not necessary in jupyter notebook)"
      ]
    }
  ],
  "metadata": {
    "kernelspec": {
      "display_name": "Python 3",
      "language": "python",
      "name": "python3"
    },
    "language_info": {
      "codemirror_mode": {
        "name": "ipython",
        "version": 3
      },
      "file_extension": ".py",
      "mimetype": "text/x-python",
      "name": "python",
      "nbconvert_exporter": "python",
      "pygments_lexer": "ipython3",
      "version": "3.9.12"
    }
  },
  "nbformat": 4,
  "nbformat_minor": 0
}