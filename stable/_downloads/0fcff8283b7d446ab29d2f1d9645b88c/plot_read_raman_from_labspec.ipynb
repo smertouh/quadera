{
  "cells": [
    {
      "cell_type": "code",
      "execution_count": null,
      "metadata": {
        "collapsed": false
      },
      "outputs": [],
      "source": [
        "%matplotlib inline"
      ]
    },
    {
      "cell_type": "markdown",
      "metadata": {},
      "source": [
        "\n# Loading RAMAN experimental file\n\nHere we load experimental LABSPEC spectra and plot them.\n"
      ]
    },
    {
      "cell_type": "code",
      "execution_count": null,
      "metadata": {
        "collapsed": false
      },
      "outputs": [],
      "source": [
        "import spectrochempy as scp"
      ]
    },
    {
      "cell_type": "markdown",
      "metadata": {},
      "source": [
        "define the folder where are the spectra\n\n"
      ]
    },
    {
      "cell_type": "code",
      "execution_count": null,
      "metadata": {
        "collapsed": false
      },
      "outputs": [],
      "source": [
        "datadir = scp.preferences.datadir\nramandir = datadir / \"ramandata\""
      ]
    },
    {
      "cell_type": "code",
      "execution_count": null,
      "metadata": {
        "collapsed": false
      },
      "outputs": [],
      "source": [
        "A = scp.read_labspec(\"Activation.txt\", directory=ramandir)\nA.plot()\n\nA = scp.read_labspec(\"532nm-191216-Si_200mu.txt\", directory=ramandir)\nA.plot()\n\nA = scp.read_labspec(\"serie190214-1.txt\", directory=ramandir)\nA.plot(colorbar=True)\nA.plot_map(colorbar=True)\n\nA = scp.read_labspec(\"SMC1-Initial_RT.txt\", directory=ramandir)\nA.plot()"
      ]
    },
    {
      "cell_type": "markdown",
      "metadata": {},
      "source": [
        "Open a dialog - note the presence of the keyword directory\n\n"
      ]
    },
    {
      "cell_type": "code",
      "execution_count": null,
      "metadata": {
        "collapsed": false
      },
      "outputs": [],
      "source": [
        "B = scp.read_labspec(directory=ramandir)"
      ]
    },
    {
      "cell_type": "markdown",
      "metadata": {},
      "source": [
        "this pack all spectra of the subdir directory (without dialog - look at the difference above)\n\n"
      ]
    },
    {
      "cell_type": "code",
      "execution_count": null,
      "metadata": {
        "collapsed": false
      },
      "outputs": [],
      "source": [
        "B = scp.read_labspec(ramandir / \"subdir\")\nB.plot()\n\n# scp.show()  # uncomment to show plot if needed (not necessary in jupyter notebook)"
      ]
    }
  ],
  "metadata": {
    "kernelspec": {
      "display_name": "Python 3",
      "language": "python",
      "name": "python3"
    },
    "language_info": {
      "codemirror_mode": {
        "name": "ipython",
        "version": 3
      },
      "file_extension": ".py",
      "mimetype": "text/x-python",
      "name": "python",
      "nbconvert_exporter": "python",
      "pygments_lexer": "ipython3",
      "version": "3.9.12"
    }
  },
  "nbformat": 4,
  "nbformat_minor": 0
}