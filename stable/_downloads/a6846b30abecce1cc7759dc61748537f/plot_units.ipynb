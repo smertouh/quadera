{
  "cells": [
    {
      "cell_type": "code",
      "execution_count": null,
      "metadata": {
        "collapsed": false
      },
      "outputs": [],
      "source": [
        "%matplotlib inline"
      ]
    },
    {
      "cell_type": "markdown",
      "metadata": {},
      "source": [
        "\n# Units manipulation examples\n\nIn this example, we show how units can be used in SpectroChemPy\n"
      ]
    },
    {
      "cell_type": "code",
      "execution_count": null,
      "metadata": {
        "collapsed": false
      },
      "outputs": [],
      "source": [
        "import spectrochempy as scp"
      ]
    },
    {
      "cell_type": "markdown",
      "metadata": {},
      "source": [
        "Spectrochempy can do calculations with units - it uses [pint](https://pint.readthedocs.io) to define and perform\noperation on data with units.\n\n"
      ]
    },
    {
      "cell_type": "markdown",
      "metadata": {},
      "source": [
        "## Create quantities\nTo create quantity, use for instance, one of the following expression:\n\n"
      ]
    },
    {
      "cell_type": "code",
      "execution_count": null,
      "metadata": {
        "collapsed": false
      },
      "outputs": [],
      "source": [
        "scp.Quantity(\"10.0 cm^-1\")\n\n\"\"\nscp.Quantity(1.0, \"cm^-1/hour\")"
      ]
    },
    {
      "cell_type": "markdown",
      "metadata": {},
      "source": [
        "or may be simpler using `ur`:\n\n"
      ]
    },
    {
      "cell_type": "code",
      "execution_count": null,
      "metadata": {
        "collapsed": false
      },
      "outputs": [],
      "source": [
        "ur = scp.ur\n10.0 * ur.meter / ur.gram / ur.volt"
      ]
    },
    {
      "cell_type": "markdown",
      "metadata": {},
      "source": [
        "`ur` stands for **unit registry**, which handle many type of units (and conversion between them)\n\n"
      ]
    },
    {
      "cell_type": "markdown",
      "metadata": {},
      "source": [
        "## Units for dataset\n\nWhen loading experimental dataset using the `read` method, units are generally attributed to coordinates and data\n\n"
      ]
    },
    {
      "cell_type": "code",
      "execution_count": null,
      "metadata": {
        "collapsed": false
      },
      "outputs": [],
      "source": [
        "ds = scp.read(\"wodger.spg\")[0]\nprefs = ds.preferences\nprefs.figure.figsize = (7, 3)\n_ = ds.plot()"
      ]
    },
    {
      "cell_type": "markdown",
      "metadata": {},
      "source": [
        "* `wavenumbers` (`x`) coordinates are here expressed in $cm^{-1}$\n* and `data` are in absorbance ($a.u.$) units.\n\n"
      ]
    },
    {
      "cell_type": "markdown",
      "metadata": {},
      "source": [
        "## Convert between units\n\nHere are some examples\n\n"
      ]
    },
    {
      "cell_type": "code",
      "execution_count": null,
      "metadata": {
        "collapsed": false
      },
      "outputs": [],
      "source": [
        "x = 36 * ur(\"km/hr\")\nx.to(\"cm/s\")"
      ]
    },
    {
      "cell_type": "markdown",
      "metadata": {},
      "source": [
        "We can make the conversion *inplace* using *ito* instead of *to*\n\n"
      ]
    },
    {
      "cell_type": "code",
      "execution_count": null,
      "metadata": {
        "collapsed": false
      },
      "outputs": [],
      "source": [
        "x.ito(\"m/s\")\nx"
      ]
    },
    {
      "cell_type": "markdown",
      "metadata": {},
      "source": [
        "Obviously you cannot convert between incompatible units\n\n"
      ]
    },
    {
      "cell_type": "code",
      "execution_count": null,
      "metadata": {
        "collapsed": false
      },
      "outputs": [],
      "source": [
        "try:\n    x.to(\"hour\")\nexcept scp.DimensionalityError as e:\n    scp.error_(e)"
      ]
    },
    {
      "cell_type": "markdown",
      "metadata": {},
      "source": [
        "This, of course, also applies to NDDataset.\nLet's try for the `x` coordinate. It is `wavenumber` in $cm^{-1}$ that can be transformed in $Hz$ for instance:\n\n"
      ]
    },
    {
      "cell_type": "code",
      "execution_count": null,
      "metadata": {
        "collapsed": false
      },
      "outputs": [],
      "source": [
        "ds.x.ito(\"terahertz\")\n_ = ds.plot()"
      ]
    },
    {
      "cell_type": "markdown",
      "metadata": {},
      "source": [
        "We can also change the wavenumbers (or frequency units), to energy units or wavelength as\nSpectrochempy (thanks to [pint](https://pint.readthedocs.io)) knows how to make the transformation.\n\n"
      ]
    },
    {
      "cell_type": "code",
      "execution_count": null,
      "metadata": {
        "collapsed": false
      },
      "outputs": [],
      "source": [
        "ds.x.ito(\"eV\")\n_ = ds.plot()\n\n\"\"\ntry:\n    ds.x.ito(\"nanometer\")\nexcept Exception as e:\n    scp.error_(e)\n\n\"\"\nds.x = ds.x.to(\"nanometer\")\n_ = ds.plot()\nprint(ds.x)  # The LinearCoord object is transformed into a Coord object"
      ]
    },
    {
      "cell_type": "markdown",
      "metadata": {},
      "source": [
        "``absorbance`` units (the units of the data) can also be transformed into ``transmittance``\n\n"
      ]
    },
    {
      "cell_type": "code",
      "execution_count": null,
      "metadata": {
        "collapsed": false
      },
      "outputs": [],
      "source": [
        "ds.ito(\"transmittance\")\n_ = ds.plot()\n\n\"\"\nds.ito(\"absorbance\")\nds.x.ito(\"cm^-1\")\n_ = ds.plot()\n\n\"\"\n# scp.show()  # uncomment to show plot if needed (not necessary in jupyter notebook)"
      ]
    }
  ],
  "metadata": {
    "kernelspec": {
      "display_name": "Python 3",
      "language": "python",
      "name": "python3"
    },
    "language_info": {
      "codemirror_mode": {
        "name": "ipython",
        "version": 3
      },
      "file_extension": ".py",
      "mimetype": "text/x-python",
      "name": "python",
      "nbconvert_exporter": "python",
      "pygments_lexer": "ipython3",
      "version": "3.9.12"
    }
  },
  "nbformat": 4,
  "nbformat_minor": 0
}