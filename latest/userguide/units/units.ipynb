{
 "cells": [
  {
   "cell_type": "code",
   "execution_count": 1,
   "id": "5002767f",
   "metadata": {
    "execution": {
     "iopub.execute_input": "2022-10-14T15:34:19.602444Z",
     "iopub.status.busy": "2022-10-14T15:34:19.601868Z",
     "iopub.status.idle": "2022-10-14T15:34:22.078759Z",
     "shell.execute_reply": "2022-10-14T15:34:22.077434Z"
    }
   },
   "outputs": [
    {
     "data": {
      "text/html": [
       "\n",
       "    \n",
       "    <div>\n",
       "    <table>\n",
       "    <tr>\n",
       "    <td>\n",
       "    \n",
       "    <img src='data:image/png;base64,iVBORw0KGgoAAAANSUhEUgAAABgAAAAYCAYAAADgdz34AAAAAXNSR0IArs4c6QAAAAlw\n",
       "    SFlzAAAJOgAACToB8GSSSgAAAetpVFh0WE1MOmNvbS5hZG9iZS54bXAAAAAAADx4OnhtcG1ldGEgeG1sbnM6eD0iYWRvYmU6bnM6\n",
       "    bWV0YS8iIHg6eG1wdGs9IlhNUCBDb3JlIDUuNC4wIj4KICAgPHJkZjpSREYgeG1sbnM6cmRmPSJodHRwOi8vd3d3LnczLm9yZy8x\n",
       "    OTk5LzAyLzIyLXJkZi1zeW50YXgtbnMjIj4KICAgICAgPHJkZjpEZXNjcmlwdGlvbiByZGY6YWJvdXQ9IiIKICAgICAgICAgICAg\n",
       "    eG1sbnM6eG1wPSJodHRwOi8vbnMuYWRvYmUuY29tL3hhcC8xLjAvIgogICAgICAgICAgICB4bWxuczp0aWZmPSJodHRwOi8vbnMu\n",
       "    YWRvYmUuY29tL3RpZmYvMS4wLyI+CiAgICAgICAgIDx4bXA6Q3JlYXRvclRvb2w+bWF0cGxvdGxpYiB2ZXJzaW9uIDIuMS4wLCBo\n",
       "    dHRwOi8vbWF0cGxvdGxpYi5vcmcvPC94bXA6Q3JlYXRvclRvb2w+CiAgICAgICAgIDx0aWZmOk9yaWVudGF0aW9uPjE8L3RpZmY6\n",
       "    T3JpZW50YXRpb24+CiAgICAgIDwvcmRmOkRlc2NyaXB0aW9uPgogICA8L3JkZjpSREY+CjwveDp4bXBtZXRhPgqNQaNYAAAGiUlE\n",
       "    QVRIDY1We4xU1Rn/3XPuYx47u8w+hnU38hTcuoUEt/6D2y4RB0ME1BoEd9taJaKh9CFiN7YGp7appUAMNmktMZFoJTYVLVQ0smsy\n",
       "    26CN0SU1QgsuFAaW3WVmx33N677O6XfuyoIxTXqSO/fec+75fd93vt/3/UbDV0aKSZmCpkFMLz3T9utuu2N+o98aDSMBKVAo89z5\n",
       "    y+zEz3ZafcCOfvWdlGCalqKn1Bf71CygTd+mf1esSOnpdMpTb+vWpTZuWVfe3jLPa5tzHYNm0T5N0gpdkkHaDBeGBU6d1/t/fyS8\n",
       "    +/CbqdfUvmsx1PuMgc2bNxv79u1zgd31r+7JH1jbIZKxWRXAcYUQ8IWvBfBXNjEuJWPgMA02NR7C3/pYT9fjdZ3A9tGrWF8YSJHn\n",
       "    qcDz3y7q2T967PZv+gnYJdd1mEZ+62zGDQV/dQgKhmLzDNOXCEWM3j6eTT5Y3w78dOBKJLR1PQf+4ivPj76UPZnssBN+wbM9Aet/\n",
       "    AV81Mf1EEULXYfOobvX2WWQk0aoioXwwSmirOlioY0mu8BIouzYl7P8GV3vpqCCEZvlFz769w08oLDWvyKIyL1asSm28d6WfzA97\n",
       "    ztvvV1kexUMsmhlkULEkuGYmFYC6AvfUrITnwUKl5K79lkjeSSRRTCTbQPd95e1WzMbZSya74XoXAxctCllCnbECMOjZNGRwvzIX\n",
       "    nD85wbkMmKK+U045Dtdi8Qp+SAxU2GTg2bYlC9224pgvmSb54vkVTBQYyhUt2KjAMyMmPjwRQW5Mh2WKwJhlBh6jVGagFM84wZnQ\n",
       "    4bpC0Rt4pk1PbSt0NDcxDA5xryosDHWgtbM0DGZDWLSoiDMDYeQnGVrmOThxLozB0RAaahzkJzjKNqcIQBymJFMkOlN8Dqjpg0XY\n",
       "    Tx5xO/QbmmUrqIjGJznq47TqTaClKYfjp+PInLMwnOdYvtQBZ2XcunQY+VwIo4U4muoFEjVEFE6lQyEUKzHYfgQG9ylCyngU+Cxj\n",
       "    tOqxCDGHcCsOMCs6iQul5ZiStdATYxjMZXDLTUVwLY8Jey4uOh2IxjwsrP8UXJYxUrkZrghBahzV5iXU6gNkq0Z1EzIsUBUSCV2n\n",
       "    EOHo0LVxHCpuxabJJdhi5PFnvw5vLXwXIfNZvD/+JNo/X40NegE54sUaazl+UL8XD1x+FB9Ijjt4EQfdGN6J/x131LwIV9ap/AYs\n",
       "    0x1fz1ZKFbh6A7qKy/By9Dg6G36Ep91vUJJ15Cqr0Z67E8/HzmBrw1OwxWyM+3Mo6BAuSB17oyfx0Oyl2DN0Hqs/70Cx6hBCvESF\n",
       "    UY1ShWXZZEE7OTAYxZzaPH4TuoiusZvRnunFy2NbiHYuBp2vB66srX4vMEjpRKPxKXmnoQ4+Mn4DPiv8CYcrs3GfNUXJLtM+alSO\n",
       "    hrMj/KT+wBNW3+E/2liywNO3iSflbaFva/+stGDTxE0E9Sjaox8HBhxpEamzMGSEaFKg+mjEddzDh1MxTDq3YV1kGBsjfwW3S9Cq\n",
       "    anjmko+ndlb1UR3s6K8JlfphNWq9Ew/7c61T2BB/EbcaNkb8GBaE0tANH7/M34PLdhJDzjIcL9xPbdTG6zyM72Y+wXPHmvB489No\n",
       "    fm0b5HnbQ9Rgp/7DSSd29AeVvPeNyK6JcYl/yQVi5dBjuGvoV/gaJe47s45QUxrDmcYX0MBsdF7egvXZ7+O0vZA4X8QmOQWjlSK7\n",
       "    RDz5wIM30gp9UbWcGjXxhzdDu1SiNSpx6kcQB57rPnr/3dlkZarWLnlRq5oPET1dOCIOk4wALib9eeS5iygfhkd09H0DWphB/+gs\n",
       "    +PcOAS+ssrFmmXXgVfR0de9cpbAJfH3Q1jofW9DZk56dDcVsq9YcsoUMEd1qyLoT3BX1YiyHMJuk97hyjqIoE91t+NcTLeN0ZrfM\n",
       "    oXatZbu6G0h4VG+ibqq0IJVK6cAjo6serG3vSUezCMct0yQeSOFJSUImqb2qbknUpDqlZxE0QZ+ZUpSlZx79h4Nda6zef9dlk121\n",
       "    JDjbR5XggPRZlRnS6bRQRtLpn4++cuie/Yvn2svmNxuLw9WCcYIl4fEoTEGiSTUqJdfgU+8ROqf1iMkLzS389YtNPXc/PH8l8ONB\n",
       "    JZkHD+4JtD04HmVEDWWErmBhzV2/2LB1bemJG6krzv2S6NOHUgtEP0Oif5pE/3fHoruP7N8RiP61GArzSwbUhJJQpXJKiKbfr/3b\n",
       "    IhKq76sKPUdF9NW/LSqfSn6vjv8C45H/6FSgvZQAAAAASUVORK5CYII='\n",
       "         style='height:25px; border-radius:12px; display:inline-block; float:left; vertical-align:middle'>\n",
       "    </img>\n",
       "    \n",
       "    </td>\n",
       "    <td>\n",
       "    \n",
       "    &nbsp;&nbsp;<span style='font-size:12px'>SpectroChemPy's API - v.0.4.8.dev4<br/>© Copyright 2014-2022 - A.Travert & C.Fernandez @ LCS</span>\n",
       "    \n",
       "    </td>\n",
       "    </tr>\n",
       "    </table>\n",
       "    </div>\n",
       "    "
      ]
     },
     "metadata": {},
     "output_type": "display_data"
    }
   ],
   "source": [
    "import spectrochempy as scp\n",
    "from spectrochempy import ur, Quantity  # to simplify further writing\n",
    "import numpy as np"
   ]
  },
  {
   "cell_type": "markdown",
   "id": "d86e4931",
   "metadata": {},
   "source": [
    "# Units & Quantities"
   ]
  },
  {
   "cell_type": "markdown",
   "id": "e16bad29",
   "metadata": {},
   "source": [
    "SpectroChemPy can do calculations with units - it uses [pint](https://pint.readthedocs.io) to define and perform\n",
    "operation on data with units.\n",
    "\n",
    "Two objects, `ur` and `Quantity`, allow the manipulation of data with units:\n",
    "\n",
    "* `ur`: stands for **unit registry**, is used to define and handle many type of units as well as making conversion\n",
    " between them.\n",
    "* `Quantity`: is a scalar or an array of scalars with some units."
   ]
  },
  {
   "cell_type": "markdown",
   "id": "5448fb04",
   "metadata": {
    "lines_to_next_cell": 0
   },
   "source": [
    "## Units\n",
    "For instance, a unit of speed can be defined as:"
   ]
  },
  {
   "cell_type": "code",
   "execution_count": 2,
   "id": "6880b6a3",
   "metadata": {
    "execution": {
     "iopub.execute_input": "2022-10-14T15:34:22.084673Z",
     "iopub.status.busy": "2022-10-14T15:34:22.084095Z",
     "iopub.status.idle": "2022-10-14T15:34:22.098832Z",
     "shell.execute_reply": "2022-10-14T15:34:22.097966Z"
    },
    "lines_to_next_cell": 2
   },
   "outputs": [
    {
     "data": {
      "text/html": [
       "cm.s<sup>-1</sup>"
      ],
      "text/latex": [
       "$\\mathrm{cm} \\cdot \\mathrm{s}^{-1}$"
      ],
      "text/plain": [
       "<Unit('centimeter*second^-1')>"
      ]
     },
     "execution_count": 2,
     "metadata": {},
     "output_type": "execute_result"
    }
   ],
   "source": [
    "ur.cm / ur.s"
   ]
  },
  {
   "cell_type": "markdown",
   "id": "5ae3b35f",
   "metadata": {},
   "source": [
    "## Create quantities\n",
    "\n",
    "to create quantity, use for instance, one of the following expression:"
   ]
  },
  {
   "cell_type": "code",
   "execution_count": 3,
   "id": "1d4b3f7f",
   "metadata": {
    "execution": {
     "iopub.execute_input": "2022-10-14T15:34:22.102839Z",
     "iopub.status.busy": "2022-10-14T15:34:22.102659Z",
     "iopub.status.idle": "2022-10-14T15:34:22.109572Z",
     "shell.execute_reply": "2022-10-14T15:34:22.108762Z"
    }
   },
   "outputs": [
    {
     "data": {
      "text/html": [
       "10.0 cm<sup>-1</sup>"
      ],
      "text/latex": [
       "$10.0\\ \\mathrm{cm}^{-1}$"
      ],
      "text/plain": [
       "10.0 <Unit('centimeter^-1')>"
      ]
     },
     "execution_count": 3,
     "metadata": {},
     "output_type": "execute_result"
    }
   ],
   "source": [
    "Quantity(\"10.0 cm^-1\")"
   ]
  },
  {
   "cell_type": "code",
   "execution_count": 4,
   "id": "4edb92bd",
   "metadata": {
    "execution": {
     "iopub.execute_input": "2022-10-14T15:34:22.114329Z",
     "iopub.status.busy": "2022-10-14T15:34:22.114110Z",
     "iopub.status.idle": "2022-10-14T15:34:22.121065Z",
     "shell.execute_reply": "2022-10-14T15:34:22.120300Z"
    }
   },
   "outputs": [
    {
     "data": {
      "text/html": [
       "1.0 cm<sup>-1</sup>.h<sup>-1</sup>"
      ],
      "text/latex": [
       "$1.0\\ \\mathrm{cm}^{-1} \\cdot \\mathrm{h}^{-1}$"
      ],
      "text/plain": [
       "1.0 <Unit('centimeter^-1*hour^-1')>"
      ]
     },
     "execution_count": 4,
     "metadata": {},
     "output_type": "execute_result"
    }
   ],
   "source": [
    "Quantity(1.0, \"cm^-1/hour\")"
   ]
  },
  {
   "cell_type": "code",
   "execution_count": 5,
   "id": "882fe9d9",
   "metadata": {
    "execution": {
     "iopub.execute_input": "2022-10-14T15:34:22.127202Z",
     "iopub.status.busy": "2022-10-14T15:34:22.126948Z",
     "iopub.status.idle": "2022-10-14T15:34:22.137915Z",
     "shell.execute_reply": "2022-10-14T15:34:22.136993Z"
    }
   },
   "outputs": [
    {
     "data": {
      "text/html": [
       "10.0 scaled-dimensionless (1e-05)"
      ],
      "text/latex": [
       "$10.0\\ \\mathrm{scaled-dimensionless (1e-05)}$"
      ],
      "text/plain": [
       "10.0 <Unit('centimeter*kilometer^-1')>"
      ]
     },
     "execution_count": 5,
     "metadata": {},
     "output_type": "execute_result"
    }
   ],
   "source": [
    "Quantity(10.0, ur.cm / ur.km)"
   ]
  },
  {
   "cell_type": "markdown",
   "id": "3af4f9ee",
   "metadata": {},
   "source": [
    "or may be (?) simpler,"
   ]
  },
  {
   "cell_type": "code",
   "execution_count": 6,
   "id": "d1e45057",
   "metadata": {
    "execution": {
     "iopub.execute_input": "2022-10-14T15:34:22.145195Z",
     "iopub.status.busy": "2022-10-14T15:34:22.144636Z",
     "iopub.status.idle": "2022-10-14T15:34:22.151243Z",
     "shell.execute_reply": "2022-10-14T15:34:22.150481Z"
    }
   },
   "outputs": [
    {
     "data": {
      "text/html": [
       "10.0 scaled-dimensionless (1e-05)"
      ],
      "text/latex": [
       "$10.0\\ \\mathrm{scaled-dimensionless (1e-05)}$"
      ],
      "text/plain": [
       "10.0 <Unit('centimeter*kilometer^-1')>"
      ]
     },
     "execution_count": 6,
     "metadata": {},
     "output_type": "execute_result"
    }
   ],
   "source": [
    "10.0 * ur.cm / ur.km"
   ]
  },
  {
   "cell_type": "markdown",
   "id": "a2f07eae",
   "metadata": {},
   "source": [
    "## Do arithmetic with units"
   ]
  },
  {
   "cell_type": "code",
   "execution_count": 7,
   "id": "233c20ae",
   "metadata": {
    "execution": {
     "iopub.execute_input": "2022-10-14T15:34:22.155231Z",
     "iopub.status.busy": "2022-10-14T15:34:22.155018Z",
     "iopub.status.idle": "2022-10-14T15:34:22.160934Z",
     "shell.execute_reply": "2022-10-14T15:34:22.160327Z"
    }
   },
   "outputs": [
    {
     "data": {
      "text/html": [
       "200.0 km.h<sup>-1</sup>"
      ],
      "text/latex": [
       "$200.0\\ \\mathrm{km} \\cdot \\mathrm{h}^{-1}$"
      ],
      "text/plain": [
       "200.0 <Unit('kilometer*hour^-1')>"
      ]
     },
     "execution_count": 7,
     "metadata": {},
     "output_type": "execute_result"
    }
   ],
   "source": [
    "a = 900 * ur.km\n",
    "b = 4.5 * ur.hours\n",
    "a / b"
   ]
  },
  {
   "cell_type": "markdown",
   "id": "af43d481",
   "metadata": {},
   "source": [
    "Such calculations can also be done using the following syntax, using a string expression"
   ]
  },
  {
   "cell_type": "code",
   "execution_count": 8,
   "id": "5ec8ebfc",
   "metadata": {
    "execution": {
     "iopub.execute_input": "2022-10-14T15:34:22.164452Z",
     "iopub.status.busy": "2022-10-14T15:34:22.164260Z",
     "iopub.status.idle": "2022-10-14T15:34:22.169826Z",
     "shell.execute_reply": "2022-10-14T15:34:22.169226Z"
    }
   },
   "outputs": [
    {
     "data": {
      "text/html": [
       "200.0 km.h<sup>-1</sup>"
      ],
      "text/latex": [
       "$200.0\\ \\mathrm{km} \\cdot \\mathrm{h}^{-1}$"
      ],
      "text/plain": [
       "200.0 <Unit('kilometer*hour^-1')>"
      ]
     },
     "execution_count": 8,
     "metadata": {},
     "output_type": "execute_result"
    }
   ],
   "source": [
    "Quantity(\"900 km / (4.5 hours)\")"
   ]
  },
  {
   "cell_type": "markdown",
   "id": "c6ee2e13",
   "metadata": {},
   "source": [
    "## Conversion between units"
   ]
  },
  {
   "cell_type": "code",
   "execution_count": 9,
   "id": "228e3e0b",
   "metadata": {
    "execution": {
     "iopub.execute_input": "2022-10-14T15:34:22.173969Z",
     "iopub.status.busy": "2022-10-14T15:34:22.173769Z",
     "iopub.status.idle": "2022-10-14T15:34:22.179339Z",
     "shell.execute_reply": "2022-10-14T15:34:22.178642Z"
    },
    "lines_to_next_cell": 2
   },
   "outputs": [],
   "source": [
    "c = a / b\n",
    "d = c.to(\"cm/s\")"
   ]
  },
  {
   "cell_type": "markdown",
   "id": "3240841f",
   "metadata": {},
   "source": [
    "As shown below `to()` has generated a new variable and does not affect the initial one:"
   ]
  },
  {
   "cell_type": "code",
   "execution_count": 10,
   "id": "b25f1c17",
   "metadata": {
    "execution": {
     "iopub.execute_input": "2022-10-14T15:34:22.183627Z",
     "iopub.status.busy": "2022-10-14T15:34:22.183391Z",
     "iopub.status.idle": "2022-10-14T15:34:22.188008Z",
     "shell.execute_reply": "2022-10-14T15:34:22.187395Z"
    }
   },
   "outputs": [
    {
     "name": "stdout",
     "output_type": "stream",
     "text": [
      "initial quantity: c = 200.0 km.h⁻¹\n",
      "converted quantity: d = 5555.555555555556 cm.s⁻¹\n"
     ]
    }
   ],
   "source": [
    "print(f\"initial quantity: c = {c}\")\n",
    "print(f\"converted quantity: d = {d}\")"
   ]
  },
  {
   "cell_type": "markdown",
   "id": "2f63e1c0",
   "metadata": {},
   "source": [
    "We can make the conversion *inplace* using `ito()` instead of `to()`:"
   ]
  },
  {
   "cell_type": "code",
   "execution_count": 11,
   "id": "00cb61a4",
   "metadata": {
    "execution": {
     "iopub.execute_input": "2022-10-14T15:34:22.192707Z",
     "iopub.status.busy": "2022-10-14T15:34:22.192024Z",
     "iopub.status.idle": "2022-10-14T15:34:22.197617Z",
     "shell.execute_reply": "2022-10-14T15:34:22.196844Z"
    }
   },
   "outputs": [
    {
     "name": "stdout",
     "output_type": "stream",
     "text": [
      "converted quantity: c = 55.55555555555556 m.s⁻¹\n"
     ]
    }
   ],
   "source": [
    "c.ito(\"m/s\")\n",
    "print(f\"converted quantity: c = {c}\")"
   ]
  },
  {
   "cell_type": "markdown",
   "id": "36527481",
   "metadata": {},
   "source": [
    "## Do math operations with consistent units\n",
    "The units are transformed consistently in maths operations:"
   ]
  },
  {
   "cell_type": "code",
   "execution_count": 12,
   "id": "1a679265",
   "metadata": {
    "execution": {
     "iopub.execute_input": "2022-10-14T15:34:22.201556Z",
     "iopub.status.busy": "2022-10-14T15:34:22.201078Z",
     "iopub.status.idle": "2022-10-14T15:34:22.207187Z",
     "shell.execute_reply": "2022-10-14T15:34:22.206541Z"
    }
   },
   "outputs": [
    {
     "data": {
      "text/html": [
       "3.1622776601683795 m<sup>0.5</sup>"
      ],
      "text/latex": [
       "$3.1622776601683795\\ \\mathrm{m}^{0.5}$"
      ],
      "text/plain": [
       "3.1622776601683795 <Unit('meter^0.5')>"
      ]
     },
     "execution_count": 12,
     "metadata": {},
     "output_type": "execute_result"
    }
   ],
   "source": [
    "x = 10 * ur.meters\n",
    "np.sqrt(x)"
   ]
  },
  {
   "cell_type": "code",
   "execution_count": 13,
   "id": "bd645f03",
   "metadata": {
    "execution": {
     "iopub.execute_input": "2022-10-14T15:34:22.210984Z",
     "iopub.status.busy": "2022-10-14T15:34:22.210525Z",
     "iopub.status.idle": "2022-10-14T15:34:22.216365Z",
     "shell.execute_reply": "2022-10-14T15:34:22.215695Z"
    }
   },
   "outputs": [
    {
     "data": {
      "text/html": [
       "-0.5440211108893698"
      ],
      "text/latex": [
       "$-0.5440211108893698\\$"
      ],
      "text/plain": [
       "-0.5440211108893698 <Unit('dimensionless')>"
      ]
     },
     "execution_count": 13,
     "metadata": {},
     "output_type": "execute_result"
    }
   ],
   "source": [
    "x = 10 * ur.radians\n",
    "np.sin(x)"
   ]
  },
  {
   "cell_type": "markdown",
   "id": "136ad6d3",
   "metadata": {},
   "source": [
    "Consistency of the units are checked and errors are generated if quantities have not appropriate units\n",
    "with the math operation..."
   ]
  },
  {
   "cell_type": "code",
   "execution_count": 14,
   "id": "dd52cb53",
   "metadata": {
    "execution": {
     "iopub.execute_input": "2022-10-14T15:34:22.220401Z",
     "iopub.status.busy": "2022-10-14T15:34:22.219700Z",
     "iopub.status.idle": "2022-10-14T15:34:22.415932Z",
     "shell.execute_reply": "2022-10-14T15:34:22.415076Z"
    }
   },
   "outputs": [
    {
     "name": "stderr",
     "output_type": "stream",
     "text": [
      "DimensionalityError: ERROR: Cannot convert from 'meter' ([length]) to 'radian' (dimensionless)\n"
     ]
    }
   ],
   "source": [
    "x = 10 * ur.meters\n",
    "try:\n",
    "    np.cos(x)\n",
    "except scp.DimensionalityError as e:  # catch the error\n",
    "    scp.error_(e)  # generate the error message (see API configuration)\n",
    "\n",
    "# Consistency of the units are checked and errors are generated if quantities have not appropriate units\n",
    "# with the math operation..."
   ]
  },
  {
   "cell_type": "markdown",
   "id": "6cd180a0",
   "metadata": {},
   "source": [
    "## Stripping the units\n",
    "\n",
    "If for any reason - including quick and dirty checks -\n",
    "unitless numbers are needed, the `magnitude` field can be used:"
   ]
  },
  {
   "cell_type": "code",
   "execution_count": 15,
   "id": "f0a153df",
   "metadata": {
    "execution": {
     "iopub.execute_input": "2022-10-14T15:34:22.420505Z",
     "iopub.status.busy": "2022-10-14T15:34:22.420294Z",
     "iopub.status.idle": "2022-10-14T15:34:22.426797Z",
     "shell.execute_reply": "2022-10-14T15:34:22.425921Z"
    }
   },
   "outputs": [
    {
     "data": {
      "text/plain": [
       "-0.8390715290764524"
      ]
     },
     "execution_count": 15,
     "metadata": {},
     "output_type": "execute_result"
    }
   ],
   "source": [
    "x = 10 * ur.meters\n",
    "np.cos(x.magnitude)"
   ]
  },
  {
   "cell_type": "markdown",
   "id": "52736374",
   "metadata": {},
   "source": [
    "Units can be set for NDDataset data and/or Coordinates"
   ]
  },
  {
   "cell_type": "code",
   "execution_count": 16,
   "id": "b725440d",
   "metadata": {
    "execution": {
     "iopub.execute_input": "2022-10-14T15:34:22.432440Z",
     "iopub.status.busy": "2022-10-14T15:34:22.432211Z",
     "iopub.status.idle": "2022-10-14T15:34:22.447230Z",
     "shell.execute_reply": "2022-10-14T15:34:22.446378Z"
    }
   },
   "outputs": [
    {
     "data": {
      "text/html": [
       "<table style='background:transparent'>\n",
       "<tr><td style='padding-right:5px; padding-bottom:0px; padding-top:0px; width:124px'><font color='green'>         name</font> </td><td style='text-align:left; padding-bottom:0px; padding-top:0px; border:.5px solid lightgray;  '> NDDataset_ad351818</td><tr>\n",
       "<tr><td style='padding-right:5px; padding-bottom:0px; padding-top:0px; width:124px'><font color='green'>       author</font> </td><td style='text-align:left; padding-bottom:0px; padding-top:0px; border:.5px solid lightgray;  '> runner@fv-az571-172</td><tr>\n",
       "<tr><td style='padding-right:5px; padding-bottom:0px; padding-top:0px; width:124px'><font color='green'>      created</font> </td><td style='text-align:left; padding-bottom:0px; padding-top:0px; border:.5px solid lightgray;  '> 2022-10-14 15:34:22.434904+00:00</td><tr>\n",
       "<tr><td style='padding-right:5px; padding-bottom:0px; padding-top:0px; width:124px'><strong>          DATA </strong></td><td style='text-align:left; padding-bottom:0px; padding-top:0px; padding-top:10px; '><hr/></td><tr>\n",
       "<tr><td style='padding-right:5px; padding-bottom:0px; padding-top:0px; width:124px'><font color='green'>        title</font> </td><td style='text-align:left; padding-bottom:0px; padding-top:0px; border:.5px solid lightgray;  '> concentration</td><tr>\n",
       "<tr><td style='padding-right:5px; padding-bottom:0px; padding-top:0px; width:124px'><font color='green'>       values</font> </td><td style='text-align:left; padding-bottom:0px; padding-top:0px; border:.5px solid lightgray;  '> <div><font color='blue'>         [       1        2        3] g.cm⁻³</font></div></td><tr>\n",
       "<tr><td style='padding-right:5px; padding-bottom:0px; padding-top:0px; width:124px'><font color='green'>         size</font> </td><td style='text-align:left; padding-bottom:0px; padding-top:0px; border:.5px solid lightgray;  '> 3</td><tr>\n",
       "</table>"
      ],
      "text/plain": [
       "NDDataset: [float64] g.cm⁻³ (size: 3)"
      ]
     },
     "execution_count": 16,
     "metadata": {},
     "output_type": "execute_result"
    }
   ],
   "source": [
    "ds = scp.NDDataset([1.0, 2.0, 3.0], units=\"g/cm^3\", title=\"concentration\")\n",
    "ds"
   ]
  },
  {
   "cell_type": "code",
   "execution_count": 17,
   "id": "493e7677",
   "metadata": {
    "execution": {
     "iopub.execute_input": "2022-10-14T15:34:22.453055Z",
     "iopub.status.busy": "2022-10-14T15:34:22.452838Z",
     "iopub.status.idle": "2022-10-14T15:34:22.465147Z",
     "shell.execute_reply": "2022-10-14T15:34:22.464292Z"
    }
   },
   "outputs": [
    {
     "data": {
      "text/html": [
       "<table style='background:transparent'>\n",
       "<tr><td style='padding-right:5px; padding-bottom:0px; padding-top:0px; width:124px'><font color='green'>         name</font> </td><td style='text-align:left; padding-bottom:0px; padding-top:0px; border:.5px solid lightgray;  '> NDDataset_ad375ab0</td><tr>\n",
       "<tr><td style='padding-right:5px; padding-bottom:0px; padding-top:0px; width:124px'><font color='green'>       author</font> </td><td style='text-align:left; padding-bottom:0px; padding-top:0px; border:.5px solid lightgray;  '> runner@fv-az571-172</td><tr>\n",
       "<tr><td style='padding-right:5px; padding-bottom:0px; padding-top:0px; width:124px'><font color='green'>      created</font> </td><td style='text-align:left; padding-bottom:0px; padding-top:0px; border:.5px solid lightgray;  '> 2022-10-14 15:34:22.434904+00:00</td><tr>\n",
       "<tr><td style='padding-right:5px; padding-bottom:0px; padding-top:0px; width:124px'><strong>          DATA </strong></td><td style='text-align:left; padding-bottom:0px; padding-top:0px; padding-top:10px; '><hr/></td><tr>\n",
       "<tr><td style='padding-right:5px; padding-bottom:0px; padding-top:0px; width:124px'><font color='green'>        title</font> </td><td style='text-align:left; padding-bottom:0px; padding-top:0px; border:.5px solid lightgray;  '> concentration</td><tr>\n",
       "<tr><td style='padding-right:5px; padding-bottom:0px; padding-top:0px; width:124px'><font color='green'>       values</font> </td><td style='text-align:left; padding-bottom:0px; padding-top:0px; border:.5px solid lightgray;  '> <div><font color='blue'>         [    1000     2000     3000] kg.m⁻³</font></div></td><tr>\n",
       "<tr><td style='padding-right:5px; padding-bottom:0px; padding-top:0px; width:124px'><font color='green'>         size</font> </td><td style='text-align:left; padding-bottom:0px; padding-top:0px; border:.5px solid lightgray;  '> 3</td><tr>\n",
       "</table>"
      ],
      "text/plain": [
       "NDDataset: [float64] kg.m⁻³ (size: 3)"
      ]
     },
     "execution_count": 17,
     "metadata": {},
     "output_type": "execute_result"
    }
   ],
   "source": [
    "ds.to(\"kg/m^3\")"
   ]
  },
  {
   "cell_type": "markdown",
   "id": "ead6cd06",
   "metadata": {},
   "source": [
    "One can do transparent calculation using the units"
   ]
  },
  {
   "cell_type": "code",
   "execution_count": 18,
   "id": "3dea9a00",
   "metadata": {
    "execution": {
     "iopub.execute_input": "2022-10-14T15:34:22.470808Z",
     "iopub.status.busy": "2022-10-14T15:34:22.470591Z",
     "iopub.status.idle": "2022-10-14T15:34:22.485324Z",
     "shell.execute_reply": "2022-10-14T15:34:22.484326Z"
    }
   },
   "outputs": [
    {
     "data": {
      "text/html": [
       "<table style='background:transparent'>\n",
       "<tr><td style='padding-right:5px; padding-bottom:0px; padding-top:0px; width:124px'><font color='green'>         name</font> </td><td style='text-align:left; padding-bottom:0px; padding-top:0px; border:.5px solid lightgray;  '> NDDataset_ad3a9432</td><tr>\n",
       "<tr><td style='padding-right:5px; padding-bottom:0px; padding-top:0px; width:124px'><font color='green'>       author</font> </td><td style='text-align:left; padding-bottom:0px; padding-top:0px; border:.5px solid lightgray;  '> runner@fv-az571-172</td><tr>\n",
       "<tr><td style='padding-right:5px; padding-bottom:0px; padding-top:0px; width:124px'><font color='green'>      created</font> </td><td style='text-align:left; padding-bottom:0px; padding-top:0px; border:.5px solid lightgray;  '> 2022-10-14 15:34:22.434904+00:00</td><tr>\n",
       "<tr><td style='padding-right:5px; padding-bottom:0px; padding-top:0px; width:124px'><font color='green'>      history</font> </td><td style='text-align:left; padding-bottom:0px; padding-top:0px; border:.5px solid lightgray;  '> <div>Binary operation mul with `2 m³` has been performed</div></td><tr>\n",
       "<tr><td style='padding-right:5px; padding-bottom:0px; padding-top:0px; width:124px'><strong>          DATA </strong></td><td style='text-align:left; padding-bottom:0px; padding-top:0px; padding-top:10px; '><hr/></td><tr>\n",
       "<tr><td style='padding-right:5px; padding-bottom:0px; padding-top:0px; width:124px'><font color='green'>        title</font> </td><td style='text-align:left; padding-bottom:0px; padding-top:0px; border:.5px solid lightgray;  '> concentration</td><tr>\n",
       "<tr><td style='padding-right:5px; padding-bottom:0px; padding-top:0px; width:124px'><font color='green'>       values</font> </td><td style='text-align:left; padding-bottom:0px; padding-top:0px; border:.5px solid lightgray;  '> <div><font color='blue'>         [       2        4        6] g.m³.cm⁻³</font></div></td><tr>\n",
       "<tr><td style='padding-right:5px; padding-bottom:0px; padding-top:0px; width:124px'><font color='green'>         size</font> </td><td style='text-align:left; padding-bottom:0px; padding-top:0px; border:.5px solid lightgray;  '> 3</td><tr>\n",
       "</table>"
      ],
      "text/plain": [
       "NDDataset: [float64] g.m³.cm⁻³ (size: 3)"
      ]
     },
     "execution_count": 18,
     "metadata": {},
     "output_type": "execute_result"
    }
   ],
   "source": [
    "volume = Quantity(\"2 m^3\")\n",
    "ds1 = ds * volume\n",
    "ds1"
   ]
  },
  {
   "cell_type": "code",
   "execution_count": 19,
   "id": "97304a1c",
   "metadata": {
    "execution": {
     "iopub.execute_input": "2022-10-14T15:34:22.489658Z",
     "iopub.status.busy": "2022-10-14T15:34:22.489415Z",
     "iopub.status.idle": "2022-10-14T15:34:22.504605Z",
     "shell.execute_reply": "2022-10-14T15:34:22.503780Z"
    }
   },
   "outputs": [
    {
     "data": {
      "text/html": [
       "<table style='background:transparent'>\n",
       "<tr><td style='padding-right:5px; padding-bottom:0px; padding-top:0px; width:124px'><font color='green'>         name</font> </td><td style='text-align:left; padding-bottom:0px; padding-top:0px; border:.5px solid lightgray;  '> NDDataset_ad3da276</td><tr>\n",
       "<tr><td style='padding-right:5px; padding-bottom:0px; padding-top:0px; width:124px'><font color='green'>       author</font> </td><td style='text-align:left; padding-bottom:0px; padding-top:0px; border:.5px solid lightgray;  '> runner@fv-az571-172</td><tr>\n",
       "<tr><td style='padding-right:5px; padding-bottom:0px; padding-top:0px; width:124px'><font color='green'>      created</font> </td><td style='text-align:left; padding-bottom:0px; padding-top:0px; border:.5px solid lightgray;  '> 2022-10-14 15:34:22.434904+00:00</td><tr>\n",
       "<tr><td style='padding-right:5px; padding-bottom:0px; padding-top:0px; width:124px'><font color='green'>      history</font> </td><td style='text-align:left; padding-bottom:0px; padding-top:0px; border:.5px solid lightgray;  '> <div>Binary operation mul with `2 m³` has been performed<br/>               Binary operation truediv with `NDDataset_ad351818` has been performed</div></td><tr>\n",
       "<tr><td style='padding-right:5px; padding-bottom:0px; padding-top:0px; width:124px'><strong>          DATA </strong></td><td style='text-align:left; padding-bottom:0px; padding-top:0px; padding-top:10px; '><hr/></td><tr>\n",
       "<tr><td style='padding-right:5px; padding-bottom:0px; padding-top:0px; width:124px'><font color='green'>        title</font> </td><td style='text-align:left; padding-bottom:0px; padding-top:0px; border:.5px solid lightgray;  '> concentration</td><tr>\n",
       "<tr><td style='padding-right:5px; padding-bottom:0px; padding-top:0px; width:124px'><font color='green'>       values</font> </td><td style='text-align:left; padding-bottom:0px; padding-top:0px; border:.5px solid lightgray;  '> <div><font color='blue'>         [       2        2        2] m³</font></div></td><tr>\n",
       "<tr><td style='padding-right:5px; padding-bottom:0px; padding-top:0px; width:124px'><font color='green'>         size</font> </td><td style='text-align:left; padding-bottom:0px; padding-top:0px; border:.5px solid lightgray;  '> 3</td><tr>\n",
       "</table>"
      ],
      "text/plain": [
       "NDDataset: [float64] m³ (size: 3)"
      ]
     },
     "execution_count": 19,
     "metadata": {},
     "output_type": "execute_result"
    }
   ],
   "source": [
    "ds1 / ds"
   ]
  }
 ],
 "metadata": {
  "jupytext": {
   "formats": "ipynb,py:percent",
   "notebook_metadata_filter": "all",
   "text_representation": {
    "extension": ".py",
    "format_name": "percent",
    "format_version": "1.3",
    "jupytext_version": "1.13.7"
   }
  },
  "kernelspec": {
   "display_name": "Python 3 (ipykernel)",
   "language": "python",
   "name": "python3"
  },
  "language_info": {
   "codemirror_mode": {
    "name": "ipython",
    "version": 3
   },
   "file_extension": ".py",
   "mimetype": "text/x-python",
   "name": "python",
   "nbconvert_exporter": "python",
   "pygments_lexer": "ipython3",
   "version": "3.9.13"
  },
  "widgets": {
   "application/vnd.jupyter.widget-state+json": {
    "state": {},
    "version_major": 2,
    "version_minor": 0
   }
  }
 },
 "nbformat": 4,
 "nbformat_minor": 5
}
