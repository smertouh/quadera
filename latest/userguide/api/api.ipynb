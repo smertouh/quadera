{
 "cells": [
  {
   "cell_type": "markdown",
   "id": "a5f9b2b3",
   "metadata": {},
   "source": [
    "# API Configuration"
   ]
  },
  {
   "cell_type": "markdown",
   "id": "4b848b06",
   "metadata": {},
   "source": [
    "Many options of the API can be set up.\n",
    "Let's first import it in the usual way:"
   ]
  },
  {
   "cell_type": "code",
   "execution_count": 1,
   "id": "7ad3c3d0",
   "metadata": {
    "execution": {
     "iopub.execute_input": "2022-10-14T15:28:45.282469Z",
     "iopub.status.busy": "2022-10-14T15:28:45.281875Z",
     "iopub.status.idle": "2022-10-14T15:28:47.682021Z",
     "shell.execute_reply": "2022-10-14T15:28:47.680941Z"
    }
   },
   "outputs": [
    {
     "data": {
      "text/html": [
       "\n",
       "    \n",
       "    <div>\n",
       "    <table>\n",
       "    <tr>\n",
       "    <td>\n",
       "    \n",
       "    <img src='data:image/png;base64,iVBORw0KGgoAAAANSUhEUgAAABgAAAAYCAYAAADgdz34AAAAAXNSR0IArs4c6QAAAAlw\n",
       "    SFlzAAAJOgAACToB8GSSSgAAAetpVFh0WE1MOmNvbS5hZG9iZS54bXAAAAAAADx4OnhtcG1ldGEgeG1sbnM6eD0iYWRvYmU6bnM6\n",
       "    bWV0YS8iIHg6eG1wdGs9IlhNUCBDb3JlIDUuNC4wIj4KICAgPHJkZjpSREYgeG1sbnM6cmRmPSJodHRwOi8vd3d3LnczLm9yZy8x\n",
       "    OTk5LzAyLzIyLXJkZi1zeW50YXgtbnMjIj4KICAgICAgPHJkZjpEZXNjcmlwdGlvbiByZGY6YWJvdXQ9IiIKICAgICAgICAgICAg\n",
       "    eG1sbnM6eG1wPSJodHRwOi8vbnMuYWRvYmUuY29tL3hhcC8xLjAvIgogICAgICAgICAgICB4bWxuczp0aWZmPSJodHRwOi8vbnMu\n",
       "    YWRvYmUuY29tL3RpZmYvMS4wLyI+CiAgICAgICAgIDx4bXA6Q3JlYXRvclRvb2w+bWF0cGxvdGxpYiB2ZXJzaW9uIDIuMS4wLCBo\n",
       "    dHRwOi8vbWF0cGxvdGxpYi5vcmcvPC94bXA6Q3JlYXRvclRvb2w+CiAgICAgICAgIDx0aWZmOk9yaWVudGF0aW9uPjE8L3RpZmY6\n",
       "    T3JpZW50YXRpb24+CiAgICAgIDwvcmRmOkRlc2NyaXB0aW9uPgogICA8L3JkZjpSREY+CjwveDp4bXBtZXRhPgqNQaNYAAAGiUlE\n",
       "    QVRIDY1We4xU1Rn/3XPuYx47u8w+hnU38hTcuoUEt/6D2y4RB0ME1BoEd9taJaKh9CFiN7YGp7appUAMNmktMZFoJTYVLVQ0smsy\n",
       "    26CN0SU1QgsuFAaW3WVmx33N677O6XfuyoIxTXqSO/fec+75fd93vt/3/UbDV0aKSZmCpkFMLz3T9utuu2N+o98aDSMBKVAo89z5\n",
       "    y+zEz3ZafcCOfvWdlGCalqKn1Bf71CygTd+mf1esSOnpdMpTb+vWpTZuWVfe3jLPa5tzHYNm0T5N0gpdkkHaDBeGBU6d1/t/fyS8\n",
       "    +/CbqdfUvmsx1PuMgc2bNxv79u1zgd31r+7JH1jbIZKxWRXAcYUQ8IWvBfBXNjEuJWPgMA02NR7C3/pYT9fjdZ3A9tGrWF8YSJHn\n",
       "    qcDz3y7q2T967PZv+gnYJdd1mEZ+62zGDQV/dQgKhmLzDNOXCEWM3j6eTT5Y3w78dOBKJLR1PQf+4ivPj76UPZnssBN+wbM9Aet/\n",
       "    AV81Mf1EEULXYfOobvX2WWQk0aoioXwwSmirOlioY0mu8BIouzYl7P8GV3vpqCCEZvlFz769w08oLDWvyKIyL1asSm28d6WfzA97\n",
       "    ztvvV1kexUMsmhlkULEkuGYmFYC6AvfUrITnwUKl5K79lkjeSSRRTCTbQPd95e1WzMbZSya74XoXAxctCllCnbECMOjZNGRwvzIX\n",
       "    nD85wbkMmKK+U045Dtdi8Qp+SAxU2GTg2bYlC9224pgvmSb54vkVTBQYyhUt2KjAMyMmPjwRQW5Mh2WKwJhlBh6jVGagFM84wZnQ\n",
       "    4bpC0Rt4pk1PbSt0NDcxDA5xryosDHWgtbM0DGZDWLSoiDMDYeQnGVrmOThxLozB0RAaahzkJzjKNqcIQBymJFMkOlN8Dqjpg0XY\n",
       "    Tx5xO/QbmmUrqIjGJznq47TqTaClKYfjp+PInLMwnOdYvtQBZ2XcunQY+VwIo4U4muoFEjVEFE6lQyEUKzHYfgQG9ylCyngU+Cxj\n",
       "    tOqxCDGHcCsOMCs6iQul5ZiStdATYxjMZXDLTUVwLY8Jey4uOh2IxjwsrP8UXJYxUrkZrghBahzV5iXU6gNkq0Z1EzIsUBUSCV2n\n",
       "    EOHo0LVxHCpuxabJJdhi5PFnvw5vLXwXIfNZvD/+JNo/X40NegE54sUaazl+UL8XD1x+FB9Ijjt4EQfdGN6J/x131LwIV9ap/AYs\n",
       "    0x1fz1ZKFbh6A7qKy/By9Dg6G36Ep91vUJJ15Cqr0Z67E8/HzmBrw1OwxWyM+3Mo6BAuSB17oyfx0Oyl2DN0Hqs/70Cx6hBCvESF\n",
       "    UY1ShWXZZEE7OTAYxZzaPH4TuoiusZvRnunFy2NbiHYuBp2vB66srX4vMEjpRKPxKXmnoQ4+Mn4DPiv8CYcrs3GfNUXJLtM+alSO\n",
       "    hrMj/KT+wBNW3+E/2liywNO3iSflbaFva/+stGDTxE0E9Sjaox8HBhxpEamzMGSEaFKg+mjEddzDh1MxTDq3YV1kGBsjfwW3S9Cq\n",
       "    anjmko+ndlb1UR3s6K8JlfphNWq9Ew/7c61T2BB/EbcaNkb8GBaE0tANH7/M34PLdhJDzjIcL9xPbdTG6zyM72Y+wXPHmvB489No\n",
       "    fm0b5HnbQ9Rgp/7DSSd29AeVvPeNyK6JcYl/yQVi5dBjuGvoV/gaJe47s45QUxrDmcYX0MBsdF7egvXZ7+O0vZA4X8QmOQWjlSK7\n",
       "    RDz5wIM30gp9UbWcGjXxhzdDu1SiNSpx6kcQB57rPnr/3dlkZarWLnlRq5oPET1dOCIOk4wALib9eeS5iygfhkd09H0DWphB/+gs\n",
       "    +PcOAS+ssrFmmXXgVfR0de9cpbAJfH3Q1jofW9DZk56dDcVsq9YcsoUMEd1qyLoT3BX1YiyHMJuk97hyjqIoE91t+NcTLeN0ZrfM\n",
       "    oXatZbu6G0h4VG+ibqq0IJVK6cAjo6serG3vSUezCMct0yQeSOFJSUImqb2qbknUpDqlZxE0QZ+ZUpSlZx79h4Nda6zef9dlk121\n",
       "    JDjbR5XggPRZlRnS6bRQRtLpn4++cuie/Yvn2svmNxuLw9WCcYIl4fEoTEGiSTUqJdfgU+8ROqf1iMkLzS389YtNPXc/PH8l8ONB\n",
       "    JZkHD+4JtD04HmVEDWWErmBhzV2/2LB1bemJG6krzv2S6NOHUgtEP0Oif5pE/3fHoruP7N8RiP61GArzSwbUhJJQpXJKiKbfr/3b\n",
       "    IhKq76sKPUdF9NW/LSqfSn6vjv8C45H/6FSgvZQAAAAASUVORK5CYII='\n",
       "         style='height:25px; border-radius:12px; display:inline-block; float:left; vertical-align:middle'>\n",
       "    </img>\n",
       "    \n",
       "    </td>\n",
       "    <td>\n",
       "    \n",
       "    &nbsp;&nbsp;<span style='font-size:12px'>SpectroChemPy's API - v.0.4.8.dev4<br/>© Copyright 2014-2022 - A.Travert & C.Fernandez @ LCS</span>\n",
       "    \n",
       "    </td>\n",
       "    </tr>\n",
       "    </table>\n",
       "    </div>\n",
       "    "
      ]
     },
     "metadata": {},
     "output_type": "display_data"
    }
   ],
   "source": [
    "import spectrochempy as scp"
   ]
  },
  {
   "cell_type": "markdown",
   "id": "a32eb490",
   "metadata": {},
   "source": [
    "## General information\n",
    "General information on the API can be obtained the following variables:"
   ]
  },
  {
   "cell_type": "code",
   "execution_count": 2,
   "id": "149868dc",
   "metadata": {
    "execution": {
     "iopub.execute_input": "2022-10-14T15:28:47.687451Z",
     "iopub.status.busy": "2022-10-14T15:28:47.686559Z",
     "iopub.status.idle": "2022-10-14T15:28:47.694273Z",
     "shell.execute_reply": "2022-10-14T15:28:47.693479Z"
    }
   },
   "outputs": [
    {
     "name": "stdout",
     "output_type": "stream",
     "text": [
      "   copyright : 2014-2022 - A.Travert & C.Fernandez @ LCS\n",
      "     version : 0.4.8.dev4\n",
      "     release : 0.4.8.dev4\n",
      "     license : CeCILL-B license\n",
      "         url : https://www.spectrochempy.fr\n",
      "release_date : 2022-05-16\n",
      "     authors : C. Fernandez & A. Travert\n",
      "contributors : A. Ait Blal, W. Guérin, M. Mailänder\n",
      " description : SpectroChemPy is a framework for processing, analysing and modelling Spectroscopic data for Chemistry with Python.\n"
     ]
    }
   ],
   "source": [
    "print(f\"   copyright : {scp.copyright}\")\n",
    "print(f\"     version : {scp.version}\")\n",
    "print(f\"     release : {scp.release}\")\n",
    "print(f\"     license : {scp.license}\")\n",
    "print(f\"         url : {scp.url}\")\n",
    "print(f\"release_date : {scp.release_date}\")\n",
    "print(f\"     authors : {scp.authors}\")\n",
    "print(f\"contributors : {scp.contributors}\")\n",
    "print(f\" description : {scp.description}\")"
   ]
  },
  {
   "cell_type": "markdown",
   "id": "15bf5850",
   "metadata": {
    "lines_to_next_cell": 0
   },
   "source": [
    "## Loglevel\n",
    "During the execution, the API can display, besides the expected output, various messages categorized according\n",
    "to their criticality:\n",
    "\n",
    "| Loglevel / criticality | use |\n",
    "| --- | --- |\n",
    "| `DEBUG` / `10` | diagnose problems on the running process or help developers |\n",
    "| `INFO`  / `20` | general information on the running process |\n",
    "| `WARNING` / `30` (default) | a condition might cause a problem WRT expected behaviour |\n",
    "| `ERROR`   / `40` | wrong argument/commands or bug |\n",
    "| `CRITICAL` / `50` | could lead to a system crash |\n",
    "\n",
    " Not all this information is always necessary and the level of information displayed by SpectroChemPy can be\n",
    " tuned using the command `scp.set_loglevel()` with the rule that only information having a\n",
    " criticality larger than that passed to the `set_loglevel()` function will be shown.\n",
    "\n",
    " For instance, the `DEBUG` level can be triggered by using one of the three equivalent instructions\n",
    "```python\n",
    "scp.set_loglevel('DEBUG')\n",
    "scp.set_loglevel(scp.DEBUG)\n",
    "scp.set_loglevel(10)\n",
    "```\n",
    "The current loglevel can be obtained with the `scp.get_loglevel()` function.\n",
    "\n",
    "The following instruction prints the current loglevel"
   ]
  },
  {
   "cell_type": "code",
   "execution_count": 3,
   "id": "8c829828",
   "metadata": {
    "execution": {
     "iopub.execute_input": "2022-10-14T15:28:47.698124Z",
     "iopub.status.busy": "2022-10-14T15:28:47.697936Z",
     "iopub.status.idle": "2022-10-14T15:28:47.702922Z",
     "shell.execute_reply": "2022-10-14T15:28:47.702148Z"
    }
   },
   "outputs": [
    {
     "name": "stdout",
     "output_type": "stream",
     "text": [
      "Default: 30\n"
     ]
    }
   ],
   "source": [
    "print(f\"Default: {scp.get_loglevel()}\")  # print the current loglevel"
   ]
  },
  {
   "cell_type": "markdown",
   "id": "22bea027",
   "metadata": {
    "lines_to_next_cell": 0
   },
   "source": [
    "It yields `30` the numerical value corresponding to the `WARNING` level. Now, the next instruction\n",
    "lowers the loglevel to `ÌNFO`:"
   ]
  },
  {
   "cell_type": "code",
   "execution_count": 4,
   "id": "38d4f5da",
   "metadata": {
    "execution": {
     "iopub.execute_input": "2022-10-14T15:28:47.706647Z",
     "iopub.status.busy": "2022-10-14T15:28:47.706426Z",
     "iopub.status.idle": "2022-10-14T15:28:47.711145Z",
     "shell.execute_reply": "2022-10-14T15:28:47.710423Z"
    },
    "lines_to_next_cell": 2
   },
   "outputs": [
    {
     "name": "stderr",
     "output_type": "stream",
     "text": [
      " changed default log_level to INFO\n"
     ]
    }
   ],
   "source": [
    "scp.set_loglevel(scp.INFO)  # set loglevel to 'INFO'"
   ]
  },
  {
   "cell_type": "markdown",
   "id": "c9b9fbd7",
   "metadata": {},
   "source": [
    "We see that the API then delivers the INFO message: `changed default log_level to INFO`."
   ]
  },
  {
   "cell_type": "markdown",
   "id": "8bfe3266",
   "metadata": {},
   "source": [
    "And  finally, the next instructions reset the loglevel to `WARNING` level (default), and print it.\n",
    "As seen below, no message `changed default log_level to ...` is delivered"
   ]
  },
  {
   "cell_type": "code",
   "execution_count": 5,
   "id": "9b22ce33",
   "metadata": {
    "execution": {
     "iopub.execute_input": "2022-10-14T15:28:47.714980Z",
     "iopub.status.busy": "2022-10-14T15:28:47.714567Z",
     "iopub.status.idle": "2022-10-14T15:28:47.719105Z",
     "shell.execute_reply": "2022-10-14T15:28:47.718297Z"
    }
   },
   "outputs": [
    {
     "name": "stdout",
     "output_type": "stream",
     "text": [
      "New loglevel: 30\n"
     ]
    }
   ],
   "source": [
    "scp.set_loglevel(\"WARNING\")  # reset to default\n",
    "print(f\"New loglevel: {scp.get_loglevel()}\")"
   ]
  },
  {
   "cell_type": "markdown",
   "id": "fd45b8cd",
   "metadata": {},
   "source": [
    "It is also possible to issue such messages in scripts. In the cell below, we set the loglevel to `INFO` and try to\n",
    "print two types of messages:"
   ]
  },
  {
   "cell_type": "code",
   "execution_count": 6,
   "id": "808a26cd",
   "metadata": {
    "execution": {
     "iopub.execute_input": "2022-10-14T15:28:47.723540Z",
     "iopub.status.busy": "2022-10-14T15:28:47.723353Z",
     "iopub.status.idle": "2022-10-14T15:28:47.907617Z",
     "shell.execute_reply": "2022-10-14T15:28:47.906673Z"
    }
   },
   "outputs": [
    {
     "name": "stderr",
     "output_type": "stream",
     "text": [
      " changed default log_level to INFO\n"
     ]
    },
    {
     "name": "stderr",
     "output_type": "stream",
     "text": [
      "this is an info message!\n"
     ]
    }
   ],
   "source": [
    "scp.set_loglevel(\"INFO\")\n",
    "scp.info_(\"this is an info message!\")\n",
    "scp.debug_(\"this is a debug message!\")"
   ]
  },
  {
   "cell_type": "markdown",
   "id": "36ee674f",
   "metadata": {},
   "source": [
    "As expected, only the info message was displayed.\n",
    "\n",
    "If we change the loglevel to ``DEBUG``, then the two messages will be printed:"
   ]
  },
  {
   "cell_type": "code",
   "execution_count": 7,
   "id": "1e1882fe",
   "metadata": {
    "execution": {
     "iopub.execute_input": "2022-10-14T15:28:47.911602Z",
     "iopub.status.busy": "2022-10-14T15:28:47.911135Z",
     "iopub.status.idle": "2022-10-14T15:28:47.931373Z",
     "shell.execute_reply": "2022-10-14T15:28:47.930641Z"
    }
   },
   "outputs": [
    {
     "name": "stderr",
     "output_type": "stream",
     "text": [
      "changed default log_level to DEBUG\n"
     ]
    },
    {
     "name": "stderr",
     "output_type": "stream",
     "text": [
      "this is an info message!\n"
     ]
    }
   ],
   "source": [
    "scp.set_loglevel(scp.DEBUG)\n",
    "scp.info_(\"this is an info message!\")\n",
    "scp.debug_(\"this is a debug message!\")"
   ]
  },
  {
   "cell_type": "markdown",
   "id": "5254db67",
   "metadata": {},
   "source": [
    "Finally, we come back to the standard level of message for the rest of the Tutorial -- in this case neither `DEBUG`\n",
    "nor `INFO` messages will be printed."
   ]
  },
  {
   "cell_type": "code",
   "execution_count": 8,
   "id": "f01d2911",
   "metadata": {
    "execution": {
     "iopub.execute_input": "2022-10-14T15:28:47.935111Z",
     "iopub.status.busy": "2022-10-14T15:28:47.934907Z",
     "iopub.status.idle": "2022-10-14T15:28:47.953629Z",
     "shell.execute_reply": "2022-10-14T15:28:47.952696Z"
    }
   },
   "outputs": [],
   "source": [
    "scp.set_loglevel(scp.WARNING)\n",
    "\n",
    "scp.info_(\"this is an info message!\")\n",
    "scp.debug_(\"this is a debug message!\")"
   ]
  },
  {
   "cell_type": "markdown",
   "id": "58ade4f1",
   "metadata": {},
   "source": [
    "\n",
    "### Error handling\n",
    "If something goes wrong with during a cell execution,  a ``traceback`` is displayed.\n",
    "\n",
    "For instance, the object or method ``toto`` does not exist in the API, so an error (`ImportError`) is generated\n",
    "when trying to import this from the API.\n",
    "\n",
    "Here we catch the error with a conventional `try-except` structure"
   ]
  },
  {
   "cell_type": "code",
   "execution_count": 9,
   "id": "f0ac02a5",
   "metadata": {
    "execution": {
     "iopub.execute_input": "2022-10-14T15:28:47.957620Z",
     "iopub.status.busy": "2022-10-14T15:28:47.957421Z",
     "iopub.status.idle": "2022-10-14T15:28:47.970028Z",
     "shell.execute_reply": "2022-10-14T15:28:47.969238Z"
    }
   },
   "outputs": [
    {
     "name": "stderr",
     "output_type": "stream",
     "text": [
      "ERROR: OOPS, THAT'S AN IMPORT ERROR! : cannot import name 'toto' from 'spectrochempy' (/usr/share/miniconda/envs/scpy/lib/python3.9/site-packages/spectrochempy/__init__.py)\n"
     ]
    }
   ],
   "source": [
    "try:\n",
    "    from spectrochempy import toto\n",
    "except ImportError as e:\n",
    "    scp.error_(\"OOPS, THAT'S AN IMPORT ERROR! : %s\" % e)"
   ]
  },
  {
   "cell_type": "markdown",
   "id": "d717fdde",
   "metadata": {},
   "source": [
    "The error will stop the execution if not caught.\n",
    "\n",
    "This is a basic behavior of python : one way to avoid stopping the execution without displaying a message is :"
   ]
  },
  {
   "cell_type": "code",
   "execution_count": 10,
   "id": "ff9f76b3",
   "metadata": {
    "execution": {
     "iopub.execute_input": "2022-10-14T15:28:47.976307Z",
     "iopub.status.busy": "2022-10-14T15:28:47.976068Z",
     "iopub.status.idle": "2022-10-14T15:28:47.980647Z",
     "shell.execute_reply": "2022-10-14T15:28:47.979697Z"
    }
   },
   "outputs": [],
   "source": [
    "try:\n",
    "    from spectrochempy import toto  # noqa: F811, F401\n",
    "except Exception:\n",
    "    pass"
   ]
  }
 ],
 "metadata": {
  "jupytext": {
   "cell_metadata_json": true,
   "encoding": "# -*- coding: utf-8 -*-",
   "formats": "ipynb,py:percent",
   "notebook_metadata_filter": "all",
   "text_representation": {
    "extension": ".py",
    "format_name": "percent",
    "format_version": "1.3",
    "jupytext_version": "1.13.7"
   }
  },
  "kernelspec": {
   "display_name": "Python 3",
   "language": "python",
   "name": "python3"
  },
  "language_info": {
   "codemirror_mode": {
    "name": "ipython",
    "version": 3
   },
   "file_extension": ".py",
   "mimetype": "text/x-python",
   "name": "python",
   "nbconvert_exporter": "python",
   "pygments_lexer": "ipython3",
   "version": "3.9.13"
  },
  "widgets": {
   "application/vnd.jupyter.widget-state+json": {
    "state": {},
    "version_major": 2,
    "version_minor": 0
   }
  }
 },
 "nbformat": 4,
 "nbformat_minor": 5
}
