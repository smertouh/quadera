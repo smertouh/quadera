{
  "cells": [
    {
      "cell_type": "code",
      "execution_count": null,
      "metadata": {
        "collapsed": false
      },
      "outputs": [],
      "source": [
        "%matplotlib inline"
      ]
    },
    {
      "cell_type": "markdown",
      "metadata": {},
      "source": [
        "\n# NDDataset baseline correction\n\nIn this example, we perform a baseline correction of a 2D NDDataset\ninteractively, using the ``multivariate`` method and a ``pchip`` interpolation.\n"
      ]
    },
    {
      "cell_type": "markdown",
      "metadata": {},
      "source": [
        "As usual we start by importing the useful library, and at least  the\nspectrochempy library.\n\n"
      ]
    },
    {
      "cell_type": "code",
      "execution_count": null,
      "metadata": {
        "collapsed": false
      },
      "outputs": [],
      "source": [
        "import spectrochempy as scp"
      ]
    },
    {
      "cell_type": "markdown",
      "metadata": {},
      "source": [
        "Load data:\n\n"
      ]
    },
    {
      "cell_type": "code",
      "execution_count": null,
      "metadata": {
        "collapsed": false
      },
      "outputs": [],
      "source": [
        "datadir = scp.preferences.datadir\nnd = scp.NDDataset.read_omnic(datadir / \"irdata\" / \"nh4y-activation.spg\")"
      ]
    },
    {
      "cell_type": "markdown",
      "metadata": {},
      "source": [
        "Do some slicing to keep only the interesting region:\n\n"
      ]
    },
    {
      "cell_type": "code",
      "execution_count": null,
      "metadata": {
        "collapsed": false
      },
      "outputs": [],
      "source": [
        "ndp = (nd - nd[-1])[:, 1291.0:5999.0]\n# Important:  notice that we use floating point number\n# integer would mean points, not wavenumbers!"
      ]
    },
    {
      "cell_type": "markdown",
      "metadata": {},
      "source": [
        "Define the BaselineCorrection object:\n\n"
      ]
    },
    {
      "cell_type": "code",
      "execution_count": null,
      "metadata": {
        "collapsed": false
      },
      "outputs": [],
      "source": [
        "ibc = scp.BaselineCorrection(ndp)"
      ]
    },
    {
      "cell_type": "markdown",
      "metadata": {},
      "source": [
        "Launch the interactive view, using the `BaselineCorrection.run` method:\n\n"
      ]
    },
    {
      "cell_type": "code",
      "execution_count": null,
      "metadata": {
        "collapsed": false
      },
      "outputs": [],
      "source": [
        "ranges = [\n    [1556.30, 1568.26],\n    [1795.00, 1956.75],\n    [3766.03, 3915.81],\n    [4574.26, 4616.04],\n    [4980.10, 4998.01],\n    [5437.52, 5994.70],\n]  # predefined ranges\nspan = ibc.run(\n    *ranges, method=\"multivariate\", interpolation=\"pchip\", npc=5, zoompreview=3\n)"
      ]
    },
    {
      "cell_type": "markdown",
      "metadata": {},
      "source": [
        "Print the corrected dataset:\n\n"
      ]
    },
    {
      "cell_type": "code",
      "execution_count": null,
      "metadata": {
        "collapsed": false
      },
      "outputs": [],
      "source": [
        "print(ibc.corrected)\n_ = ibc.corrected.plot()\n# scp.show()  # uncomment to show plot if needed (not necessary in jupyter notebook)\n\n\"\""
      ]
    }
  ],
  "metadata": {
    "kernelspec": {
      "display_name": "Python 3",
      "language": "python",
      "name": "python3"
    },
    "language_info": {
      "codemirror_mode": {
        "name": "ipython",
        "version": 3
      },
      "file_extension": ".py",
      "mimetype": "text/x-python",
      "name": "python",
      "nbconvert_exporter": "python",
      "pygments_lexer": "ipython3",
      "version": "3.9.13"
    }
  },
  "nbformat": 4,
  "nbformat_minor": 0
}