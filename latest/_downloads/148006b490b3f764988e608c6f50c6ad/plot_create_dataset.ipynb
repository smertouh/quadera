{
  "cells": [
    {
      "cell_type": "code",
      "execution_count": null,
      "metadata": {
        "collapsed": false
      },
      "outputs": [],
      "source": [
        "%matplotlib inline"
      ]
    },
    {
      "cell_type": "markdown",
      "metadata": {},
      "source": [
        "\n# NDDataset creation and plotting example\nIn this example, we create a 3D NDDataset from scratch,\nand then we plot one section (a 2D plane)\n"
      ]
    },
    {
      "cell_type": "markdown",
      "metadata": {},
      "source": [
        "As usual, we start by loading the spectrochempy library\n\n"
      ]
    },
    {
      "cell_type": "code",
      "execution_count": null,
      "metadata": {
        "collapsed": false
      },
      "outputs": [],
      "source": [
        "import spectrochempy as scp\nimport numpy as np"
      ]
    },
    {
      "cell_type": "markdown",
      "metadata": {},
      "source": [
        "## Creation\nNow we will create a 3D NDDataset from scratch\n\n### Data\nhere we make use of numpy array functions to create the data for coordinates\naxis and the array of data\n\n"
      ]
    },
    {
      "cell_type": "code",
      "execution_count": null,
      "metadata": {
        "collapsed": false
      },
      "outputs": [],
      "source": [
        "c0 = np.linspace(200.0, 300.0, 3)\nc1 = np.linspace(0.0, 60.0, 100)\nc2 = np.linspace(4000.0, 1000.0, 100)\nnd_data = np.array(\n    [\n        np.array([np.sin(2.0 * np.pi * c2 / 4000.0) * np.exp(-y / 60) for y in c1]) * t\n        for t in c0\n    ]\n)"
      ]
    },
    {
      "cell_type": "markdown",
      "metadata": {},
      "source": [
        "### Coordinates\nThe `Coord` object allow making an array of coordinates\nwith additional metadata such as units, labels, title, etc\n\n"
      ]
    },
    {
      "cell_type": "code",
      "execution_count": null,
      "metadata": {
        "collapsed": false
      },
      "outputs": [],
      "source": [
        "coord0 = scp.Coord(\n    data=c0, labels=[\"cold\", \"normal\", \"hot\"], units=\"K\", title=\"temperature\"\n)\ncoord1 = scp.Coord(data=c1, labels=None, units=\"minutes\", title=\"time-on-stream\")\ncoord2 = scp.Coord(data=c2, labels=None, units=\"cm^-1\", title=\"wavenumber\")"
      ]
    },
    {
      "cell_type": "markdown",
      "metadata": {},
      "source": [
        "Labels can be useful for instance for indexing\n\n"
      ]
    },
    {
      "cell_type": "code",
      "execution_count": null,
      "metadata": {
        "collapsed": false
      },
      "outputs": [],
      "source": [
        "a = coord0[\"normal\"]\nprint(a)"
      ]
    },
    {
      "cell_type": "markdown",
      "metadata": {},
      "source": [
        "### nd-Dataset\nThe |NDDataset| object allow making the array of data with units, etc...\n\n"
      ]
    },
    {
      "cell_type": "code",
      "execution_count": null,
      "metadata": {
        "collapsed": false
      },
      "outputs": [],
      "source": [
        "mydataset = scp.NDDataset(\n    nd_data, coordset=[coord0, coord1, coord2], title=\"Absorbance\", units=\"absorbance\"\n)\nmydataset.description = \"\"\"Dataset example created for this tutorial.\nIt's a 3-D dataset (with dimensionless intensity: absorbance )\"\"\"\nmydataset.name = \"An example from scratch\"\nmydataset.author = \"Blake and Mortimer\"\nprint(mydataset)"
      ]
    },
    {
      "cell_type": "markdown",
      "metadata": {},
      "source": [
        "We want to plot a section of this 3D NDDataset:\n\nNDDataset can be sliced like conventional numpy-array...\n\n"
      ]
    },
    {
      "cell_type": "code",
      "execution_count": null,
      "metadata": {
        "collapsed": false
      },
      "outputs": [],
      "source": [
        "new = mydataset[..., 0]"
      ]
    },
    {
      "cell_type": "markdown",
      "metadata": {},
      "source": [
        "or maybe more conveniently in this case, using an axis labels:\n\n"
      ]
    },
    {
      "cell_type": "code",
      "execution_count": null,
      "metadata": {
        "collapsed": false
      },
      "outputs": [],
      "source": [
        "new = mydataset[\"hot\"]"
      ]
    },
    {
      "cell_type": "markdown",
      "metadata": {},
      "source": [
        "To plot a dataset, use the `plot` command (generic plot).\nAs the section NDDataset is 2D, a contour plot is displayed by default.\n\n"
      ]
    },
    {
      "cell_type": "code",
      "execution_count": null,
      "metadata": {
        "collapsed": false
      },
      "outputs": [],
      "source": [
        "new.plot()"
      ]
    },
    {
      "cell_type": "markdown",
      "metadata": {},
      "source": [
        "But it is possible to display image\n\nsphinx_gallery_thumbnail_number = 2\n\n"
      ]
    },
    {
      "cell_type": "code",
      "execution_count": null,
      "metadata": {
        "collapsed": false
      },
      "outputs": [],
      "source": [
        "new.plot(method=\"image\")"
      ]
    },
    {
      "cell_type": "markdown",
      "metadata": {},
      "source": [
        "or stacked plot\n\n"
      ]
    },
    {
      "cell_type": "code",
      "execution_count": null,
      "metadata": {
        "collapsed": false
      },
      "outputs": [],
      "source": [
        "new.plot(method=\"stack\")"
      ]
    },
    {
      "cell_type": "markdown",
      "metadata": {},
      "source": [
        "Note that the scp allows one to use this syntax too:\n\n"
      ]
    },
    {
      "cell_type": "code",
      "execution_count": null,
      "metadata": {
        "collapsed": false
      },
      "outputs": [],
      "source": [
        "scp.plot_stack(new)\n\n# scp.show()  # uncomment to show plot if needed (not necessary in jupyter notebook)"
      ]
    }
  ],
  "metadata": {
    "kernelspec": {
      "display_name": "Python 3",
      "language": "python",
      "name": "python3"
    },
    "language_info": {
      "codemirror_mode": {
        "name": "ipython",
        "version": 3
      },
      "file_extension": ".py",
      "mimetype": "text/x-python",
      "name": "python",
      "nbconvert_exporter": "python",
      "pygments_lexer": "ipython3",
      "version": "3.9.13"
    }
  },
  "nbformat": 4,
  "nbformat_minor": 0
}